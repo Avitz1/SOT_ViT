{
  "nbformat": 4,
  "nbformat_minor": 0,
  "metadata": {
    "kernelspec": {
      "display_name": "Python 3",
      "language": "python",
      "name": "python3"
    },
    "language_info": {
      "codemirror_mode": {
        "name": "ipython",
        "version": 3
      },
      "file_extension": ".py",
      "mimetype": "text/x-python",
      "name": "python",
      "nbconvert_exporter": "python",
      "pygments_lexer": "ipython3",
      "version": "3.6.12"
    },
    "colab": {
      "provenance": [],
      "collapsed_sections": [],
      "include_colab_link": true
    },
    "accelerator": "GPU",
    "widgets": {
      "application/vnd.jupyter.widget-state+json": {
        "c753fe8af96842c5a15eced4218c66fd": {
          "model_module": "@jupyter-widgets/controls",
          "model_name": "HBoxModel",
          "model_module_version": "1.5.0",
          "state": {
            "_dom_classes": [],
            "_model_module": "@jupyter-widgets/controls",
            "_model_module_version": "1.5.0",
            "_model_name": "HBoxModel",
            "_view_count": null,
            "_view_module": "@jupyter-widgets/controls",
            "_view_module_version": "1.5.0",
            "_view_name": "HBoxView",
            "box_style": "",
            "children": [
              "IPY_MODEL_7986cb6e7d0c4bb19fe549c3b4246551",
              "IPY_MODEL_5c1be0450e7a4dc79108e29776b9ed6f",
              "IPY_MODEL_0587afe5eb6343c18e8d066a2e0223d7"
            ],
            "layout": "IPY_MODEL_37ad99896858448986489ffafa6c6884"
          }
        },
        "7986cb6e7d0c4bb19fe549c3b4246551": {
          "model_module": "@jupyter-widgets/controls",
          "model_name": "HTMLModel",
          "model_module_version": "1.5.0",
          "state": {
            "_dom_classes": [],
            "_model_module": "@jupyter-widgets/controls",
            "_model_module_version": "1.5.0",
            "_model_name": "HTMLModel",
            "_view_count": null,
            "_view_module": "@jupyter-widgets/controls",
            "_view_module_version": "1.5.0",
            "_view_name": "HTMLView",
            "description": "",
            "description_tooltip": null,
            "layout": "IPY_MODEL_b8cf7b03067142bcae2392a91fdf7f3c",
            "placeholder": "​",
            "style": "IPY_MODEL_ac7c963faec54e2dbd2481f319cfebf0",
            "value": "100%"
          }
        },
        "5c1be0450e7a4dc79108e29776b9ed6f": {
          "model_module": "@jupyter-widgets/controls",
          "model_name": "FloatProgressModel",
          "model_module_version": "1.5.0",
          "state": {
            "_dom_classes": [],
            "_model_module": "@jupyter-widgets/controls",
            "_model_module_version": "1.5.0",
            "_model_name": "FloatProgressModel",
            "_view_count": null,
            "_view_module": "@jupyter-widgets/controls",
            "_view_module_version": "1.5.0",
            "_view_name": "ProgressView",
            "bar_style": "success",
            "description": "",
            "description_tooltip": null,
            "layout": "IPY_MODEL_ec5e5822264445839ff35f73b0056940",
            "max": 170498071,
            "min": 0,
            "orientation": "horizontal",
            "style": "IPY_MODEL_dab9b8719c2741c287f607f484245ecf",
            "value": 170498071
          }
        },
        "0587afe5eb6343c18e8d066a2e0223d7": {
          "model_module": "@jupyter-widgets/controls",
          "model_name": "HTMLModel",
          "model_module_version": "1.5.0",
          "state": {
            "_dom_classes": [],
            "_model_module": "@jupyter-widgets/controls",
            "_model_module_version": "1.5.0",
            "_model_name": "HTMLModel",
            "_view_count": null,
            "_view_module": "@jupyter-widgets/controls",
            "_view_module_version": "1.5.0",
            "_view_name": "HTMLView",
            "description": "",
            "description_tooltip": null,
            "layout": "IPY_MODEL_223afe6459eb42b49071e3375da0f6ba",
            "placeholder": "​",
            "style": "IPY_MODEL_2470eb65c9d34e86b455c1bf13778839",
            "value": " 170498071/170498071 [00:13&lt;00:00, 13534944.50it/s]"
          }
        },
        "37ad99896858448986489ffafa6c6884": {
          "model_module": "@jupyter-widgets/base",
          "model_name": "LayoutModel",
          "model_module_version": "1.2.0",
          "state": {
            "_model_module": "@jupyter-widgets/base",
            "_model_module_version": "1.2.0",
            "_model_name": "LayoutModel",
            "_view_count": null,
            "_view_module": "@jupyter-widgets/base",
            "_view_module_version": "1.2.0",
            "_view_name": "LayoutView",
            "align_content": null,
            "align_items": null,
            "align_self": null,
            "border": null,
            "bottom": null,
            "display": null,
            "flex": null,
            "flex_flow": null,
            "grid_area": null,
            "grid_auto_columns": null,
            "grid_auto_flow": null,
            "grid_auto_rows": null,
            "grid_column": null,
            "grid_gap": null,
            "grid_row": null,
            "grid_template_areas": null,
            "grid_template_columns": null,
            "grid_template_rows": null,
            "height": null,
            "justify_content": null,
            "justify_items": null,
            "left": null,
            "margin": null,
            "max_height": null,
            "max_width": null,
            "min_height": null,
            "min_width": null,
            "object_fit": null,
            "object_position": null,
            "order": null,
            "overflow": null,
            "overflow_x": null,
            "overflow_y": null,
            "padding": null,
            "right": null,
            "top": null,
            "visibility": null,
            "width": null
          }
        },
        "b8cf7b03067142bcae2392a91fdf7f3c": {
          "model_module": "@jupyter-widgets/base",
          "model_name": "LayoutModel",
          "model_module_version": "1.2.0",
          "state": {
            "_model_module": "@jupyter-widgets/base",
            "_model_module_version": "1.2.0",
            "_model_name": "LayoutModel",
            "_view_count": null,
            "_view_module": "@jupyter-widgets/base",
            "_view_module_version": "1.2.0",
            "_view_name": "LayoutView",
            "align_content": null,
            "align_items": null,
            "align_self": null,
            "border": null,
            "bottom": null,
            "display": null,
            "flex": null,
            "flex_flow": null,
            "grid_area": null,
            "grid_auto_columns": null,
            "grid_auto_flow": null,
            "grid_auto_rows": null,
            "grid_column": null,
            "grid_gap": null,
            "grid_row": null,
            "grid_template_areas": null,
            "grid_template_columns": null,
            "grid_template_rows": null,
            "height": null,
            "justify_content": null,
            "justify_items": null,
            "left": null,
            "margin": null,
            "max_height": null,
            "max_width": null,
            "min_height": null,
            "min_width": null,
            "object_fit": null,
            "object_position": null,
            "order": null,
            "overflow": null,
            "overflow_x": null,
            "overflow_y": null,
            "padding": null,
            "right": null,
            "top": null,
            "visibility": null,
            "width": null
          }
        },
        "ac7c963faec54e2dbd2481f319cfebf0": {
          "model_module": "@jupyter-widgets/controls",
          "model_name": "DescriptionStyleModel",
          "model_module_version": "1.5.0",
          "state": {
            "_model_module": "@jupyter-widgets/controls",
            "_model_module_version": "1.5.0",
            "_model_name": "DescriptionStyleModel",
            "_view_count": null,
            "_view_module": "@jupyter-widgets/base",
            "_view_module_version": "1.2.0",
            "_view_name": "StyleView",
            "description_width": ""
          }
        },
        "ec5e5822264445839ff35f73b0056940": {
          "model_module": "@jupyter-widgets/base",
          "model_name": "LayoutModel",
          "model_module_version": "1.2.0",
          "state": {
            "_model_module": "@jupyter-widgets/base",
            "_model_module_version": "1.2.0",
            "_model_name": "LayoutModel",
            "_view_count": null,
            "_view_module": "@jupyter-widgets/base",
            "_view_module_version": "1.2.0",
            "_view_name": "LayoutView",
            "align_content": null,
            "align_items": null,
            "align_self": null,
            "border": null,
            "bottom": null,
            "display": null,
            "flex": null,
            "flex_flow": null,
            "grid_area": null,
            "grid_auto_columns": null,
            "grid_auto_flow": null,
            "grid_auto_rows": null,
            "grid_column": null,
            "grid_gap": null,
            "grid_row": null,
            "grid_template_areas": null,
            "grid_template_columns": null,
            "grid_template_rows": null,
            "height": null,
            "justify_content": null,
            "justify_items": null,
            "left": null,
            "margin": null,
            "max_height": null,
            "max_width": null,
            "min_height": null,
            "min_width": null,
            "object_fit": null,
            "object_position": null,
            "order": null,
            "overflow": null,
            "overflow_x": null,
            "overflow_y": null,
            "padding": null,
            "right": null,
            "top": null,
            "visibility": null,
            "width": null
          }
        },
        "dab9b8719c2741c287f607f484245ecf": {
          "model_module": "@jupyter-widgets/controls",
          "model_name": "ProgressStyleModel",
          "model_module_version": "1.5.0",
          "state": {
            "_model_module": "@jupyter-widgets/controls",
            "_model_module_version": "1.5.0",
            "_model_name": "ProgressStyleModel",
            "_view_count": null,
            "_view_module": "@jupyter-widgets/base",
            "_view_module_version": "1.2.0",
            "_view_name": "StyleView",
            "bar_color": null,
            "description_width": ""
          }
        },
        "223afe6459eb42b49071e3375da0f6ba": {
          "model_module": "@jupyter-widgets/base",
          "model_name": "LayoutModel",
          "model_module_version": "1.2.0",
          "state": {
            "_model_module": "@jupyter-widgets/base",
            "_model_module_version": "1.2.0",
            "_model_name": "LayoutModel",
            "_view_count": null,
            "_view_module": "@jupyter-widgets/base",
            "_view_module_version": "1.2.0",
            "_view_name": "LayoutView",
            "align_content": null,
            "align_items": null,
            "align_self": null,
            "border": null,
            "bottom": null,
            "display": null,
            "flex": null,
            "flex_flow": null,
            "grid_area": null,
            "grid_auto_columns": null,
            "grid_auto_flow": null,
            "grid_auto_rows": null,
            "grid_column": null,
            "grid_gap": null,
            "grid_row": null,
            "grid_template_areas": null,
            "grid_template_columns": null,
            "grid_template_rows": null,
            "height": null,
            "justify_content": null,
            "justify_items": null,
            "left": null,
            "margin": null,
            "max_height": null,
            "max_width": null,
            "min_height": null,
            "min_width": null,
            "object_fit": null,
            "object_position": null,
            "order": null,
            "overflow": null,
            "overflow_x": null,
            "overflow_y": null,
            "padding": null,
            "right": null,
            "top": null,
            "visibility": null,
            "width": null
          }
        },
        "2470eb65c9d34e86b455c1bf13778839": {
          "model_module": "@jupyter-widgets/controls",
          "model_name": "DescriptionStyleModel",
          "model_module_version": "1.5.0",
          "state": {
            "_model_module": "@jupyter-widgets/controls",
            "_model_module_version": "1.5.0",
            "_model_name": "DescriptionStyleModel",
            "_view_count": null,
            "_view_module": "@jupyter-widgets/base",
            "_view_module_version": "1.2.0",
            "_view_name": "StyleView",
            "description_width": ""
          }
        }
      }
    }
  },
  "cells": [
    {
      "cell_type": "markdown",
      "metadata": {
        "id": "view-in-github",
        "colab_type": "text"
      },
      "source": [
        "<a href=\"https://colab.research.google.com/github/tomkark/SOT_ViT/blob/main/avi_wasted_my_time.ipynb\" target=\"_parent\"><img src=\"https://colab.research.google.com/assets/colab-badge.svg\" alt=\"Open In Colab\"/></a>"
      ]
    },
    {
      "cell_type": "markdown",
      "metadata": {
        "id": "eUf56UTX7U1n"
      },
      "source": [
        "# Training a Compact Vision Transformer\n",
        "\n",
        "\n",
        "This is it. You can now train a transformer on very limited data from scratch on very limited resources.\n",
        "\n",
        "### CIFAR-10\n",
        "\n",
        "We're going to use ``torchvision``'s CIFAR-10 dataset, which will automatically download it as well.\n",
        "\n",
        "Its classes are: ‘airplane’, ‘automobile’, ‘bird’, ‘cat’, ‘deer’,\n",
        "‘dog’, ‘frog’, ‘horse’, ‘ship’, ‘truck’. The images in CIFAR-10 are of\n",
        "size 3x32x32, i.e. 3-channel color images of 32x32 pixels in size.\n",
        "\n",
        "\n",
        "### Training an image classifier\n",
        "\n",
        "We will do the following steps in order:\n",
        "\n",
        "1. Download CIFAR-10 and load it\n",
        "2. Clone the Compact Transformers repository from GitHub\n",
        "3. Train the network on CIFAR-10\n",
        "4. Load the trained checkpoint\n",
        "5. Test the network on the test data"
      ]
    },
    {
      "cell_type": "markdown",
      "metadata": {
        "id": "vOUzXmWrfQ0O"
      },
      "source": [
        "## 1. Loading the prerequisites"
      ]
    },
    {
      "cell_type": "markdown",
      "metadata": {
        "id": "aamRUhwbkKng"
      },
      "source": [
        "We need to import some basic requirements (PyTorch, Torchvision, and matplotlib)."
      ]
    },
    {
      "cell_type": "code",
      "metadata": {
        "id": "QFn8eXJ-kGH2"
      },
      "source": [
        "import torch\n",
        "import torchvision\n",
        "import torchvision.transforms as transforms\n",
        "import matplotlib.pyplot as plt\n",
        "\n",
        "\n",
        "cifar10_mean, cifar10_std = [0.4914, 0.4822, 0.4465], [0.2470, 0.2435, 0.2616]\n",
        "transform = transforms.Compose(\n",
        "    [transforms.ToTensor(),\n",
        "     transforms.Normalize(cifar10_mean, cifar10_std)])\n",
        "\n",
        "\n",
        "classes = ('plane', 'car', 'bird', 'cat',\n",
        "           'deer', 'dog', 'frog', 'horse', 'ship', 'truck')"
      ],
      "execution_count": 17,
      "outputs": []
    },
    {
      "cell_type": "markdown",
      "metadata": {
        "id": "gjdc84zvkV0k"
      },
      "source": [
        "This function will plot images, their labels and the predicted labels (if specified). We'll use it as we go through."
      ]
    },
    {
      "cell_type": "code",
      "metadata": {
        "id": "34kaamob7U1m"
      },
      "source": [
        "def imshow(images, labels, predicted_labels=None):\n",
        "    # Using torchvision to make a grid of the images\n",
        "    img = torchvision.utils.make_grid(images)\n",
        "\n",
        "    # Inverting the normalization\n",
        "    img = img.permute(1, 2, 0).mul(torch.tensor(cifar10_std))\n",
        "    img += torch.tensor(cifar10_mean)\n",
        "\n",
        "    # Plotting the grid\n",
        "    fig, ax = plt.subplots(figsize=(6, 24))\n",
        "    plt.imshow(img)\n",
        "\n",
        "    if predicted_labels is not None:\n",
        "        # Outputing the predicted labels\n",
        "        ax.set_xlabel('Predicted labels', fontsize=18, labelpad=12)\n",
        "        ax.set_xticks(torch.arange(len(images)) * 35 + 20)\n",
        "        ax.set_xticklabels([classes[predicted_labels[j]] \n",
        "                            for j in range(len(images))], fontsize=14)\n",
        "    \n",
        "    # Outputing the ground truth labels\n",
        "    gax = ax.secondary_xaxis('top')\n",
        "    gax.set_xlabel('Ground truth', fontsize=18, labelpad=12)\n",
        "    gax.set_xticks(torch.arange(len(images)) * 35 + 20)\n",
        "    gax.set_xticklabels([classes[labels[j]] \n",
        "                         for j in range(len(images))], fontsize=14)\n",
        "    plt.show()"
      ],
      "execution_count": 18,
      "outputs": []
    },
    {
      "cell_type": "markdown",
      "metadata": {
        "id": "NtmgJyxI7U1p"
      },
      "source": [
        "## 2. Loading and normalizing CIFAR10\n",
        "Using ``torchvision``, it’s extremely easy to load CIFAR10."
      ]
    },
    {
      "cell_type": "code",
      "metadata": {
        "id": "EM1GR73T7U1p",
        "colab": {
          "base_uri": "https://localhost:8080/",
          "height": 84,
          "referenced_widgets": [
            "c753fe8af96842c5a15eced4218c66fd",
            "7986cb6e7d0c4bb19fe549c3b4246551",
            "5c1be0450e7a4dc79108e29776b9ed6f",
            "0587afe5eb6343c18e8d066a2e0223d7",
            "37ad99896858448986489ffafa6c6884",
            "b8cf7b03067142bcae2392a91fdf7f3c",
            "ac7c963faec54e2dbd2481f319cfebf0",
            "ec5e5822264445839ff35f73b0056940",
            "dab9b8719c2741c287f607f484245ecf",
            "223afe6459eb42b49071e3375da0f6ba",
            "2470eb65c9d34e86b455c1bf13778839"
          ]
        },
        "outputId": "baf621f2-0706-4267-f0f0-e5f3f6ff7660"
      },
      "source": [
        "batch_size = 4\n",
        "\n",
        "trainset = torchvision.datasets.CIFAR10(root='./cifar10', train=True,\n",
        "                                        download=True, transform=transform)\n",
        "trainloader = torch.utils.data.DataLoader(trainset, batch_size=batch_size,\n",
        "                                          shuffle=True, num_workers=2)\n",
        "\n",
        "testset = torchvision.datasets.CIFAR10(root='./cifar10', train=False,\n",
        "                                       download=False, transform=transform)\n",
        "testloader = torch.utils.data.DataLoader(testset, batch_size=batch_size,\n",
        "                                         shuffle=False, num_workers=2)\n",
        "\n",
        "dataiter = iter(trainloader)\n",
        "test_dataiter = iter(testloader)"
      ],
      "execution_count": 19,
      "outputs": [
        {
          "output_type": "stream",
          "name": "stdout",
          "text": [
            "Downloading https://www.cs.toronto.edu/~kriz/cifar-10-python.tar.gz to ./cifar10/cifar-10-python.tar.gz\n"
          ]
        },
        {
          "output_type": "display_data",
          "data": {
            "text/plain": [
              "  0%|          | 0/170498071 [00:00<?, ?it/s]"
            ],
            "application/vnd.jupyter.widget-view+json": {
              "version_major": 2,
              "version_minor": 0,
              "model_id": "c753fe8af96842c5a15eced4218c66fd"
            }
          },
          "metadata": {}
        },
        {
          "output_type": "stream",
          "name": "stdout",
          "text": [
            "Extracting ./cifar10/cifar-10-python.tar.gz to ./cifar10\n"
          ]
        }
      ]
    },
    {
      "cell_type": "markdown",
      "metadata": {
        "id": "SrEIjTCOjVim"
      },
      "source": [
        "**Let's view some of the training images, for fun.** \\\\\n",
        "Run this cell to see outputs. \\\\\n",
        "You can run this cell multiple times.\n",
        "Each run should return different images"
      ]
    },
    {
      "cell_type": "code",
      "metadata": {
        "id": "UA29qUBf7U1q",
        "colab": {
          "base_uri": "https://localhost:8080/",
          "height": 182
        },
        "outputId": "59ad66bd-a685-47e2-c150-e48e885784f8"
      },
      "source": [
        "images, labels = dataiter.next()\n",
        "imshow(images, labels)"
      ],
      "execution_count": 20,
      "outputs": [
        {
          "output_type": "display_data",
          "data": {
            "text/plain": [
              "<Figure size 432x1728 with 1 Axes>"
            ],
            "image/png": "[encoded data removed]"
          },
          "metadata": {
            "needs_background": "light"
          }
        }
      ]
    },
    {
      "cell_type": "markdown",
      "metadata": {
        "id": "8wc1UQqi7U1q"
      },
      "source": [
        "## 3. Train CCT on CIFAR-10\n",
        "We're going to clone the repository first.\n"
      ]
    },
    {
      "cell_type": "code",
      "metadata": {
        "id": "Bb0MqQMO78qz",
        "colab": {
          "base_uri": "https://localhost:8080/"
        },
        "outputId": "317922b7-3bd7-42df-a930-a6a05bedc34c"
      },
      "source": [
        "from os.path import exists\n",
        "%cd /content\n",
        "if not exists(\"SOT_ViT\"):\n",
        "  !git clone https://github.com/tomkark/SOT_ViT.git\n",
        "  %cd SOT_ViT\n",
        "\n",
        "else:\n",
        "  %cd SOT_ViT\n",
        "  !git pull\n"
      ],
      "execution_count": 21,
      "outputs": [
        {
          "output_type": "stream",
          "name": "stdout",
          "text": [
            "/content\n",
            "/content/SOT_ViT\n",
            "Already up to date.\n"
          ]
        }
      ]
    },
    {
      "cell_type": "markdown",
      "metadata": {
        "id": "rhasF53HYSef"
      },
      "source": [
        "We'll train $CCT-2/3\\times2$ from the paper ( $\\approx 280$ K parameters) for $30$ epochs. It should take around 10 minutes (may vary depending on which GPU Colab assigns to you)."
      ]
    },
    {
      "cell_type": "markdown",
      "metadata": {
        "id": "YllIsD2xjj7j"
      },
      "source": [
        "Training is fairly simple,\n",
        "we'll just run `main.py` with the the appropriate args.\n",
        "The script will train and logs performance and time."
      ]
    },
    {
      "cell_type": "code",
      "metadata": {
        "colab": {
          "base_uri": "https://localhost:8080/"
        },
        "id": "nZa0tyEO8F9S",
        "outputId": "64b6a351-64d5-410b-b4e8-d9598fbed5e8"
      },
      "source": [
        "!python main.py \\\n",
        "       --model cct_2 \\\n",
        "       --conv-size 3 \\\n",
        "       --conv-layers 2 \\\n",
        "       --print-freq -1 \\\n",
        "       --epochs 30 \\\n",
        "       --workers 2 \\\n",
        "       ../cifar10"
      ],
      "execution_count": 22,
      "outputs": [
        {
          "output_type": "stream",
          "name": "stdout",
          "text": [
            "GPU (CUDA) Status: True\n",
            "Files already downloaded and verified\n",
            "Beginning training 0.5\n",
            "[Epoch 1] \t \t Top-1 31.22000 \t \t Time: 0.66\n",
            "[Epoch 2] \t \t Top-1 36.20000 \t \t Time: 1.30\n",
            "[Epoch 3] \t \t Top-1 38.43000 \t \t Time: 1.94\n",
            "[Epoch 4] \t \t Top-1 47.59000 \t \t Time: 2.58\n",
            "[Epoch 5] \t \t Top-1 47.81000 \t \t Time: 3.22\n",
            "[Epoch 6] \t \t Top-1 54.23000 \t \t Time: 3.86\n",
            "[Epoch 7] \t \t Top-1 56.60000 \t \t Time: 4.49\n",
            "[Epoch 8] \t \t Top-1 57.43000 \t \t Time: 5.13\n",
            "[Epoch 9] \t \t Top-1 62.20000 \t \t Time: 5.77\n",
            "[Epoch 10] \t \t Top-1 63.44000 \t \t Time: 6.41\n",
            "[Epoch 11] \t \t Top-1 64.02000 \t \t Time: 7.07\n",
            "[Epoch 12] \t \t Top-1 64.24000 \t \t Time: 7.71\n",
            "[Epoch 13] \t \t Top-1 67.14000 \t \t Time: 8.36\n",
            "[Epoch 14] \t \t Top-1 68.00000 \t \t Time: 9.00\n",
            "[Epoch 15] \t \t Top-1 69.99000 \t \t Time: 9.67\n",
            "[Epoch 16] \t \t Top-1 69.80000 \t \t Time: 10.31\n",
            "[Epoch 17] \t \t Top-1 72.06000 \t \t Time: 10.95\n",
            "[Epoch 18] \t \t Top-1 72.57000 \t \t Time: 11.59\n",
            "[Epoch 19] \t \t Top-1 72.77000 \t \t Time: 12.23\n",
            "[Epoch 20] \t \t Top-1 73.65000 \t \t Time: 12.87\n",
            "[Epoch 21] \t \t Top-1 74.06000 \t \t Time: 13.51\n",
            "[Epoch 22] \t \t Top-1 73.94000 \t \t Time: 14.15\n",
            "[Epoch 23] \t \t Top-1 74.67000 \t \t Time: 14.83\n",
            "[Epoch 24] \t \t Top-1 75.27000 \t \t Time: 15.47\n",
            "[Epoch 25] \t \t Top-1 75.27000 \t \t Time: 16.12\n",
            "[Epoch 26] \t \t Top-1 75.20000 \t \t Time: 16.75\n",
            "[Epoch 27] \t \t Top-1 75.52000 \t \t Time: 17.39\n",
            "[Epoch 28] \t \t Top-1 75.87000 \t \t Time: 18.03\n",
            "[Epoch 29] \t \t Top-1 75.90000 \t \t Time: 18.68\n",
            "[Epoch 30] \t \t Top-1 75.92000 \t \t Time: 19.32\n",
            "2022-09-21 15:27:14,672 [INFO] Script finished in 19.32 minutes, best top-1: 75.92, final top-1: 75.92, Entropy Coefficient: 0.5\n"
          ]
        }
      ]
    },
    {
      "cell_type": "markdown",
      "metadata": {
        "id": "NrtaPljN7U1t"
      },
      "source": [
        "## 4. Evaluation\n",
        "Now we're going to load our trained transformer from file. \\\\\n",
        "The script stores checkpoints in `checkpoint.pth`."
      ]
    },
    {
      "cell_type": "code",
      "metadata": {
        "id": "fLkpNzIO7U1u",
        "colab": {
          "base_uri": "https://localhost:8080/"
        },
        "outputId": "481fc2ff-ec44-474c-9005-bdc425d700fe"
      },
      "source": [
        "from src.cct import cct_2\n",
        "\n",
        "transformer = cct_2(img_size=32,\n",
        "                    num_classes=10,\n",
        "                    positional_embedding='learnable',\n",
        "                    n_conv_layers=2,\n",
        "                    kernel_size=3)\n",
        "\n",
        "transformer.load_state_dict(torch.load('checkpoint.pth'))"
      ],
      "execution_count": 23,
      "outputs": [
        {
          "output_type": "execute_result",
          "data": {
            "text/plain": [
              "<All keys matched successfully>"
            ]
          },
          "metadata": {},
          "execution_count": 23
        }
      ]
    },
    {
      "cell_type": "markdown",
      "metadata": {
        "id": "to3894whjw1j"
      },
      "source": [
        "**Okay, now let us see what the transformer thinks these examples above are:** \\\\\n",
        "Run this cell to see outputs. \\\\\n",
        "You can run this cell multiple times.\n",
        "Each run should return different images"
      ]
    },
    {
      "cell_type": "code",
      "metadata": {
        "colab": {
          "base_uri": "https://localhost:8080/",
          "height": 216
        },
        "id": "WXb95hF1ZhPN",
        "outputId": "297ba012-65ae-432b-98bc-c32084af0789"
      },
      "source": [
        "images, labels = test_dataiter.next()\n",
        "torch.save(images[0], \"exampleImage.pt\")\n",
        "\n",
        "_, predicted = torch.max(transformer(images), 1)\n",
        "\n",
        "imshow(images, labels, predicted)"
      ],
      "execution_count": 24,
      "outputs": [
        {
          "output_type": "display_data",
          "data": {
            "text/plain": [
              "<Figure size 432x1728 with 1 Axes>"
            ],
            "image/png": "[encoded data removed]"
          },
          "metadata": {
            "needs_background": "light"
          }
        }
      ]
    }
  ]
}