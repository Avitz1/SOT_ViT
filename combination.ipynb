{
  "nbformat": 4,
  "nbformat_minor": 0,
  "metadata": {
    "kernelspec": {
      "display_name": "Python 3",
      "language": "python",
      "name": "python3"
    },
    "language_info": {
      "codemirror_mode": {
        "name": "ipython",
        "version": 3
      },
      "file_extension": ".py",
      "mimetype": "text/x-python",
      "name": "python",
      "nbconvert_exporter": "python",
      "pygments_lexer": "ipython3",
      "version": "3.6.12"
    },
    "colab": {
      "name": "combination.ipynb",
      "provenance": [],
      "collapsed_sections": []
    },
    "accelerator": "GPU",
    "widgets": {
      "application/vnd.jupyter.widget-state+json": {
        "84d78e3861bc4ac1ac096b4313d3ddcd": {
          "model_module": "@jupyter-widgets/controls",
          "model_name": "HBoxModel",
          "model_module_version": "1.5.0",
          "state": {
            "_dom_classes": [],
            "_model_module": "@jupyter-widgets/controls",
            "_model_module_version": "1.5.0",
            "_model_name": "HBoxModel",
            "_view_count": null,
            "_view_module": "@jupyter-widgets/controls",
            "_view_module_version": "1.5.0",
            "_view_name": "HBoxView",
            "box_style": "",
            "children": [
              "IPY_MODEL_bcb5f83e4ab94d83aa67ea37a5959c69",
              "IPY_MODEL_5b7663fb9dd745f08727f10970f00e93",
              "IPY_MODEL_f275188172324582a85877f73a46418a"
            ],
            "layout": "IPY_MODEL_39f00b7416364b0bb184016d1c43217b"
          }
        },
        "bcb5f83e4ab94d83aa67ea37a5959c69": {
          "model_module": "@jupyter-widgets/controls",
          "model_name": "HTMLModel",
          "model_module_version": "1.5.0",
          "state": {
            "_dom_classes": [],
            "_model_module": "@jupyter-widgets/controls",
            "_model_module_version": "1.5.0",
            "_model_name": "HTMLModel",
            "_view_count": null,
            "_view_module": "@jupyter-widgets/controls",
            "_view_module_version": "1.5.0",
            "_view_name": "HTMLView",
            "description": "",
            "description_tooltip": null,
            "layout": "IPY_MODEL_6a537192504d4d32a7a4b507a13ac193",
            "placeholder": "​",
            "style": "IPY_MODEL_9004f05bed8e4be49bdf022d4af1c0b4",
            "value": "100%"
          }
        },
        "5b7663fb9dd745f08727f10970f00e93": {
          "model_module": "@jupyter-widgets/controls",
          "model_name": "FloatProgressModel",
          "model_module_version": "1.5.0",
          "state": {
            "_dom_classes": [],
            "_model_module": "@jupyter-widgets/controls",
            "_model_module_version": "1.5.0",
            "_model_name": "FloatProgressModel",
            "_view_count": null,
            "_view_module": "@jupyter-widgets/controls",
            "_view_module_version": "1.5.0",
            "_view_name": "ProgressView",
            "bar_style": "success",
            "description": "",
            "description_tooltip": null,
            "layout": "IPY_MODEL_d34e2b73a0ca47a2ad484a44a934341c",
            "max": 170498071,
            "min": 0,
            "orientation": "horizontal",
            "style": "IPY_MODEL_4147463def124f039a72549cb49facfe",
            "value": 170498071
          }
        },
        "f275188172324582a85877f73a46418a": {
          "model_module": "@jupyter-widgets/controls",
          "model_name": "HTMLModel",
          "model_module_version": "1.5.0",
          "state": {
            "_dom_classes": [],
            "_model_module": "@jupyter-widgets/controls",
            "_model_module_version": "1.5.0",
            "_model_name": "HTMLModel",
            "_view_count": null,
            "_view_module": "@jupyter-widgets/controls",
            "_view_module_version": "1.5.0",
            "_view_name": "HTMLView",
            "description": "",
            "description_tooltip": null,
            "layout": "IPY_MODEL_830fb14e70814e20ac642eaa9bc1a7d6",
            "placeholder": "​",
            "style": "IPY_MODEL_a937cf545e9444a0a7b3d0f89e9f24ae",
            "value": " 170498071/170498071 [00:04&lt;00:00, 51159417.43it/s]"
          }
        },
        "39f00b7416364b0bb184016d1c43217b": {
          "model_module": "@jupyter-widgets/base",
          "model_name": "LayoutModel",
          "model_module_version": "1.2.0",
          "state": {
            "_model_module": "@jupyter-widgets/base",
            "_model_module_version": "1.2.0",
            "_model_name": "LayoutModel",
            "_view_count": null,
            "_view_module": "@jupyter-widgets/base",
            "_view_module_version": "1.2.0",
            "_view_name": "LayoutView",
            "align_content": null,
            "align_items": null,
            "align_self": null,
            "border": null,
            "bottom": null,
            "display": null,
            "flex": null,
            "flex_flow": null,
            "grid_area": null,
            "grid_auto_columns": null,
            "grid_auto_flow": null,
            "grid_auto_rows": null,
            "grid_column": null,
            "grid_gap": null,
            "grid_row": null,
            "grid_template_areas": null,
            "grid_template_columns": null,
            "grid_template_rows": null,
            "height": null,
            "justify_content": null,
            "justify_items": null,
            "left": null,
            "margin": null,
            "max_height": null,
            "max_width": null,
            "min_height": null,
            "min_width": null,
            "object_fit": null,
            "object_position": null,
            "order": null,
            "overflow": null,
            "overflow_x": null,
            "overflow_y": null,
            "padding": null,
            "right": null,
            "top": null,
            "visibility": null,
            "width": null
          }
        },
        "6a537192504d4d32a7a4b507a13ac193": {
          "model_module": "@jupyter-widgets/base",
          "model_name": "LayoutModel",
          "model_module_version": "1.2.0",
          "state": {
            "_model_module": "@jupyter-widgets/base",
            "_model_module_version": "1.2.0",
            "_model_name": "LayoutModel",
            "_view_count": null,
            "_view_module": "@jupyter-widgets/base",
            "_view_module_version": "1.2.0",
            "_view_name": "LayoutView",
            "align_content": null,
            "align_items": null,
            "align_self": null,
            "border": null,
            "bottom": null,
            "display": null,
            "flex": null,
            "flex_flow": null,
            "grid_area": null,
            "grid_auto_columns": null,
            "grid_auto_flow": null,
            "grid_auto_rows": null,
            "grid_column": null,
            "grid_gap": null,
            "grid_row": null,
            "grid_template_areas": null,
            "grid_template_columns": null,
            "grid_template_rows": null,
            "height": null,
            "justify_content": null,
            "justify_items": null,
            "left": null,
            "margin": null,
            "max_height": null,
            "max_width": null,
            "min_height": null,
            "min_width": null,
            "object_fit": null,
            "object_position": null,
            "order": null,
            "overflow": null,
            "overflow_x": null,
            "overflow_y": null,
            "padding": null,
            "right": null,
            "top": null,
            "visibility": null,
            "width": null
          }
        },
        "9004f05bed8e4be49bdf022d4af1c0b4": {
          "model_module": "@jupyter-widgets/controls",
          "model_name": "DescriptionStyleModel",
          "model_module_version": "1.5.0",
          "state": {
            "_model_module": "@jupyter-widgets/controls",
            "_model_module_version": "1.5.0",
            "_model_name": "DescriptionStyleModel",
            "_view_count": null,
            "_view_module": "@jupyter-widgets/base",
            "_view_module_version": "1.2.0",
            "_view_name": "StyleView",
            "description_width": ""
          }
        },
        "d34e2b73a0ca47a2ad484a44a934341c": {
          "model_module": "@jupyter-widgets/base",
          "model_name": "LayoutModel",
          "model_module_version": "1.2.0",
          "state": {
            "_model_module": "@jupyter-widgets/base",
            "_model_module_version": "1.2.0",
            "_model_name": "LayoutModel",
            "_view_count": null,
            "_view_module": "@jupyter-widgets/base",
            "_view_module_version": "1.2.0",
            "_view_name": "LayoutView",
            "align_content": null,
            "align_items": null,
            "align_self": null,
            "border": null,
            "bottom": null,
            "display": null,
            "flex": null,
            "flex_flow": null,
            "grid_area": null,
            "grid_auto_columns": null,
            "grid_auto_flow": null,
            "grid_auto_rows": null,
            "grid_column": null,
            "grid_gap": null,
            "grid_row": null,
            "grid_template_areas": null,
            "grid_template_columns": null,
            "grid_template_rows": null,
            "height": null,
            "justify_content": null,
            "justify_items": null,
            "left": null,
            "margin": null,
            "max_height": null,
            "max_width": null,
            "min_height": null,
            "min_width": null,
            "object_fit": null,
            "object_position": null,
            "order": null,
            "overflow": null,
            "overflow_x": null,
            "overflow_y": null,
            "padding": null,
            "right": null,
            "top": null,
            "visibility": null,
            "width": null
          }
        },
        "4147463def124f039a72549cb49facfe": {
          "model_module": "@jupyter-widgets/controls",
          "model_name": "ProgressStyleModel",
          "model_module_version": "1.5.0",
          "state": {
            "_model_module": "@jupyter-widgets/controls",
            "_model_module_version": "1.5.0",
            "_model_name": "ProgressStyleModel",
            "_view_count": null,
            "_view_module": "@jupyter-widgets/base",
            "_view_module_version": "1.2.0",
            "_view_name": "StyleView",
            "bar_color": null,
            "description_width": ""
          }
        },
        "830fb14e70814e20ac642eaa9bc1a7d6": {
          "model_module": "@jupyter-widgets/base",
          "model_name": "LayoutModel",
          "model_module_version": "1.2.0",
          "state": {
            "_model_module": "@jupyter-widgets/base",
            "_model_module_version": "1.2.0",
            "_model_name": "LayoutModel",
            "_view_count": null,
            "_view_module": "@jupyter-widgets/base",
            "_view_module_version": "1.2.0",
            "_view_name": "LayoutView",
            "align_content": null,
            "align_items": null,
            "align_self": null,
            "border": null,
            "bottom": null,
            "display": null,
            "flex": null,
            "flex_flow": null,
            "grid_area": null,
            "grid_auto_columns": null,
            "grid_auto_flow": null,
            "grid_auto_rows": null,
            "grid_column": null,
            "grid_gap": null,
            "grid_row": null,
            "grid_template_areas": null,
            "grid_template_columns": null,
            "grid_template_rows": null,
            "height": null,
            "justify_content": null,
            "justify_items": null,
            "left": null,
            "margin": null,
            "max_height": null,
            "max_width": null,
            "min_height": null,
            "min_width": null,
            "object_fit": null,
            "object_position": null,
            "order": null,
            "overflow": null,
            "overflow_x": null,
            "overflow_y": null,
            "padding": null,
            "right": null,
            "top": null,
            "visibility": null,
            "width": null
          }
        },
        "a937cf545e9444a0a7b3d0f89e9f24ae": {
          "model_module": "@jupyter-widgets/controls",
          "model_name": "DescriptionStyleModel",
          "model_module_version": "1.5.0",
          "state": {
            "_model_module": "@jupyter-widgets/controls",
            "_model_module_version": "1.5.0",
            "_model_name": "DescriptionStyleModel",
            "_view_count": null,
            "_view_module": "@jupyter-widgets/base",
            "_view_module_version": "1.2.0",
            "_view_name": "StyleView",
            "description_width": ""
          }
        }
      }
    }
  },
  "cells": [
    {
      "cell_type": "markdown",
      "metadata": {
        "id": "eUf56UTX7U1n",
        "pycharm": {
          "name": "#%% md\n"
        }
      },
      "source": [
        "# Training a Compact Vision Transformer\n",
        "\n",
        "\n",
        "This is it. You can now train a transformer on very limited data from scratch on very limited resources.\n",
        "\n",
        "### CIFAR-10\n",
        "\n",
        "We're going to use ``torchvision``'s CIFAR-10 dataset, which will automatically download it as well.\n",
        "\n",
        "Its classes are: ‘airplane’, ‘automobile’, ‘bird’, ‘cat’, ‘deer’,\n",
        "‘dog’, ‘frog’, ‘horse’, ‘ship’, ‘truck’. The images in CIFAR-10 are of\n",
        "size 3x32x32, i.e. 3-channel color images of 32x32 pixels in size.\n",
        "\n",
        "\n",
        "### Training an image classifier\n",
        "\n",
        "We will do the following steps in order:\n",
        "\n",
        "1. Download CIFAR-10 and load it\n",
        "2. Clone the Compact Transformers repository from GitHub\n",
        "3. Train the network on CIFAR-10\n",
        "4. Load the trained checkpoint\n",
        "5. Test the network on the test data"
      ]
    },
    {
      "cell_type": "markdown",
      "metadata": {
        "id": "vOUzXmWrfQ0O",
        "pycharm": {
          "name": "#%% md\n"
        }
      },
      "source": [
        "## 1. Loading the prerequisites"
      ]
    },
    {
      "cell_type": "markdown",
      "metadata": {
        "id": "aamRUhwbkKng",
        "pycharm": {
          "name": "#%% md\n"
        }
      },
      "source": [
        "We need to import some basic requirements (PyTorch, Torchvision, and matplotlib)."
      ]
    },
    {
      "cell_type": "code",
      "metadata": {
        "id": "QFn8eXJ-kGH2",
        "pycharm": {
          "name": "#%%\n"
        }
      },
      "source": [
        "import torch\n",
        "import torchvision\n",
        "import torchvision.transforms as transforms\n",
        "import matplotlib.pyplot as plt\n",
        "\n",
        "\n",
        "cifar10_mean, cifar10_std = [0.4914, 0.4822, 0.4465], [0.2470, 0.2435, 0.2616]\n",
        "transform = transforms.Compose(\n",
        "    [transforms.ToTensor(),\n",
        "     transforms.Normalize(cifar10_mean, cifar10_std)])\n",
        "\n",
        "classes = ('plane', 'car', 'bird', 'cat',\n",
        "           'deer', 'dog', 'frog', 'horse', 'ship', 'truck')"
      ],
      "execution_count": 1,
      "outputs": []
    },
    {
      "cell_type": "markdown",
      "metadata": {
        "id": "gjdc84zvkV0k",
        "pycharm": {
          "name": "#%% md\n"
        }
      },
      "source": [
        "This function will plot images, their labels and the predicted labels (if specified). We'll use it as we go through."
      ]
    },
    {
      "cell_type": "code",
      "metadata": {
        "id": "34kaamob7U1m",
        "pycharm": {
          "name": "#%%\n"
        }
      },
      "source": [
        "def imshow(images, labels, predicted_labels=None):\n",
        "    # Using torchvision to make a grid of the images\n",
        "    img = torchvision.utils.make_grid(images)\n",
        "\n",
        "    # Inverting the normalization\n",
        "    img = img.permute(1, 2, 0).mul(torch.tensor(cifar10_std))\n",
        "    img += torch.tensor(cifar10_mean)\n",
        "\n",
        "    # Plotting the grid\n",
        "    fig, ax = plt.subplots(figsize=(6, 24))\n",
        "    plt.imshow(img)\n",
        "\n",
        "    if predicted_labels is not None:\n",
        "        # Outputing the predicted labels\n",
        "        ax.set_xlabel('Predicted labels', fontsize=18, labelpad=12)\n",
        "        ax.set_xticks(torch.arange(len(images)) * 35 + 20)\n",
        "        ax.set_xticklabels([classes[predicted_labels[j]] \n",
        "                            for j in range(len(images))], fontsize=14)\n",
        "    \n",
        "    # Outputing the ground truth labels\n",
        "    gax = ax.secondary_xaxis('top')\n",
        "    gax.set_xlabel('Ground truth', fontsize=18, labelpad=12)\n",
        "    gax.set_xticks(torch.arange(len(images)) * 35 + 20)\n",
        "    gax.set_xticklabels([classes[labels[j]] \n",
        "                         for j in range(len(images))], fontsize=14)\n",
        "    plt.show()"
      ],
      "execution_count": 2,
      "outputs": []
    },
    {
      "cell_type": "markdown",
      "metadata": {
        "id": "NtmgJyxI7U1p",
        "pycharm": {
          "name": "#%% md\n"
        }
      },
      "source": [
        "## 2. Loading and normalizing CIFAR10\n",
        "Using ``torchvision``, it’s extremely easy to load CIFAR10."
      ]
    },
    {
      "cell_type": "code",
      "metadata": {
        "id": "EM1GR73T7U1p",
        "colab": {
          "base_uri": "https://localhost:8080/",
          "height": 84,
          "referenced_widgets": [
            "84d78e3861bc4ac1ac096b4313d3ddcd",
            "bcb5f83e4ab94d83aa67ea37a5959c69",
            "5b7663fb9dd745f08727f10970f00e93",
            "f275188172324582a85877f73a46418a",
            "39f00b7416364b0bb184016d1c43217b",
            "6a537192504d4d32a7a4b507a13ac193",
            "9004f05bed8e4be49bdf022d4af1c0b4",
            "d34e2b73a0ca47a2ad484a44a934341c",
            "4147463def124f039a72549cb49facfe",
            "830fb14e70814e20ac642eaa9bc1a7d6",
            "a937cf545e9444a0a7b3d0f89e9f24ae"
          ]
        },
        "outputId": "c9746872-9aab-426f-ead5-1391dcd45832",
        "pycharm": {
          "name": "#%%\n"
        }
      },
      "source": [
        "batch_size = 4\n",
        "\n",
        "trainset = torchvision.datasets.CIFAR10(root='./cifar10', train=True,\n",
        "                                        download=True, transform=transform)\n",
        "trainloader = torch.utils.data.DataLoader(trainset, batch_size=batch_size,\n",
        "                                          shuffle=True, num_workers=2)\n",
        "\n",
        "testset = torchvision.datasets.CIFAR10(root='./cifar10', train=False,\n",
        "                                       download=False, transform=transform)\n",
        "testloader = torch.utils.data.DataLoader(testset, batch_size=batch_size,\n",
        "                                         shuffle=False, num_workers=2)\n",
        "\n",
        "dataiter = iter(trainloader)\n",
        "test_dataiter = iter(testloader)"
      ],
      "execution_count": 3,
      "outputs": [
        {
          "output_type": "stream",
          "name": "stdout",
          "text": [
            "Downloading https://www.cs.toronto.edu/~kriz/cifar-10-python.tar.gz to ./cifar10/cifar-10-python.tar.gz\n"
          ]
        },
        {
          "output_type": "display_data",
          "data": {
            "text/plain": [
              "  0%|          | 0/170498071 [00:00<?, ?it/s]"
            ],
            "application/vnd.jupyter.widget-view+json": {
              "version_major": 2,
              "version_minor": 0,
              "model_id": "84d78e3861bc4ac1ac096b4313d3ddcd"
            }
          },
          "metadata": {}
        },
        {
          "output_type": "stream",
          "name": "stdout",
          "text": [
            "Extracting ./cifar10/cifar-10-python.tar.gz to ./cifar10\n"
          ]
        }
      ]
    },
    {
      "cell_type": "markdown",
      "metadata": {
        "id": "SrEIjTCOjVim",
        "pycharm": {
          "name": "#%% md\n"
        }
      },
      "source": [
        "**Let's view some of the training images, for fun.** \\\\\n",
        "Run this cell to see outputs. \\\\\n",
        "You can run this cell multiple times.\n",
        "Each run should return different images"
      ]
    },
    {
      "cell_type": "code",
      "metadata": {
        "id": "UA29qUBf7U1q",
        "colab": {
          "base_uri": "https://localhost:8080/",
          "height": 182
        },
        "outputId": "4d803f0d-5ac9-4ff0-dcee-ec3ba6698613",
        "pycharm": {
          "name": "#%%\n"
        }
      },
      "source": [
        "images, labels = dataiter.next()\n",
        "imshow(images, labels)"
      ],
      "execution_count": 4,
      "outputs": [
        {
          "output_type": "display_data",
          "data": {
            "text/plain": [
              "<Figure size 432x1728 with 1 Axes>"
            ],
            "image/png": "[encoded data removed]"
          },
          "metadata": {
            "needs_background": "light"
          }
        }
      ]
    },
    {
      "cell_type": "markdown",
      "metadata": {
        "id": "8wc1UQqi7U1q",
        "pycharm": {
          "name": "#%% md\n"
        }
      },
      "source": [
        "## 3. Train CCT on CIFAR-10\n",
        "We're going to clone the repository first.\n"
      ]
    },
    {
      "cell_type": "code",
      "metadata": {
        "id": "Bb0MqQMO78qz",
        "colab": {
          "base_uri": "https://localhost:8080/"
        },
        "outputId": "96b93819-05a9-4026-9484-e9f6680a1498",
        "pycharm": {
          "name": "#%%\n"
        }
      },
      "source": [
        "from os.path import exists\n",
        "%cd /content\n",
        "if not exists(\"SOT_ViT\"):\n",
        "  !git clone https://github.com/tomkark/SOT_ViT.git\n",
        "  %cd SOT_ViT\n",
        "  !git checkout new\n",
        "else:\n",
        "  %cd SOT_ViT\n",
        "  !git pull\n"
      ],
      "execution_count": 5,
      "outputs": [
        {
          "output_type": "stream",
          "name": "stdout",
          "text": [
            "/content\n",
            "Cloning into 'SOT_ViT'...\n",
            "remote: Enumerating objects: 170, done.\u001b[K\n",
            "remote: Counting objects: 100% (170/170), done.\u001b[K\n",
            "remote: Compressing objects: 100% (118/118), done.\u001b[K\n",
            "remote: Total 170 (delta 99), reused 112 (delta 51), pack-reused 0\u001b[K\n",
            "Receiving objects: 100% (170/170), 1.14 MiB | 7.70 MiB/s, done.\n",
            "Resolving deltas: 100% (99/99), done.\n",
            "/content/SOT_ViT\n",
            "Branch 'new' set up to track remote branch 'new' from 'origin'.\n",
            "Switched to a new branch 'new'\n"
          ]
        }
      ]
    },
    {
      "cell_type": "markdown",
      "metadata": {
        "id": "rhasF53HYSef",
        "pycharm": {
          "name": "#%% md\n"
        }
      },
      "source": [
        "We'll train $CCT-2/3\\times2$ from the paper ( $\\approx 280$ K parameters) for $30$ epochs. It should take around 10 minutes (may vary depending on which GPU Colab assigns to you)."
      ]
    },
    {
      "cell_type": "markdown",
      "metadata": {
        "id": "YllIsD2xjj7j",
        "pycharm": {
          "name": "#%% md\n"
        }
      },
      "source": [
        "Training is fairly simple,\n",
        "we'll just run `main.py` with the the appropriate args.\n",
        "The script will train and logs performance and time."
      ]
    },
    {
      "cell_type": "code",
      "metadata": {
        "colab": {
          "base_uri": "https://localhost:8080/"
        },
        "id": "nZa0tyEO8F9S",
        "outputId": "8c521953-7b62-4e57-b62b-fdabe4adbd3f",
        "pycharm": {
          "name": "#%%\n"
        }
      },
      "source": [
        "!python main.py \\\n",
        "       --ot 0.1 \\\n",
        "       --model cct_2 \\\n",
        "       --conv-size 3 \\\n",
        "       --conv-layers 2 \\\n",
        "       --print-freq -1 \\\n",
        "       --epochs 10 \\\n",
        "       --workers 2 \\\n",
        "       ../cifar10"
      ],
      "execution_count": null,
      "outputs": [
        {
          "output_type": "stream",
          "name": "stdout",
          "text": [
            "GPU (CUDA) Status: True\n",
            "Files already downloaded and verified\n",
            "Beginning training 0.1\n",
            "[Epoch 1] \t \t Top-1 32.79000 \t \t Time: 0.76\n",
            "[Epoch 2] \t \t Top-1 37.02000 \t \t Time: 1.41\n"
          ]
        }
      ]
    },
    {
      "cell_type": "markdown",
      "metadata": {
        "id": "NrtaPljN7U1t",
        "pycharm": {
          "name": "#%% md\n"
        }
      },
      "source": [
        "## 4. Evaluation\n",
        "Now we're going to load our trained transformer from file. \\\\\n",
        "The script stores checkpoints in `checkpoint.pth`."
      ]
    },
    {
      "cell_type": "code",
      "metadata": {
        "id": "fLkpNzIO7U1u",
        "pycharm": {
          "name": "#%%\n"
        }
      },
      "source": [
        "from src.cct import cct_2\n",
        "\n",
        "transformer = cct_2(img_size=32,\n",
        "                    num_classes=10,\n",
        "                    positional_embedding='learnable',\n",
        "                    n_conv_layers=2,\n",
        "                    kernel_size=3)\n",
        "\n",
        "transformer.load_state_dict(torch.load('checkpoint.pth'))\n",
        "transformer.cuda()"
      ],
      "execution_count": null,
      "outputs": []
    },
    {
      "cell_type": "markdown",
      "metadata": {
        "id": "to3894whjw1j",
        "pycharm": {
          "name": "#%% md\n"
        }
      },
      "source": [
        "**Okay, now let us see what the transformer thinks these examples above are:** \\\\\n",
        "Run this cell to see outputs. \\\\\n",
        "You can run this cell multiple times.\n",
        "Each run should return different images"
      ]
    },
    {
      "cell_type": "code",
      "metadata": {
        "id": "WXb95hF1ZhPN",
        "pycharm": {
          "name": "#%%\n"
        }
      },
      "source": [
        "images, labels = test_dataiter.next()\n",
        "images, labels = images.cuda(), labels.cuda() \n",
        "\n",
        "_, predicted = torch.max(transformer(images), 1)\n",
        "\n",
        "images = images.detach().cpu()\n",
        "labels = labels.detach().cpu()\n",
        "imshow(images, labels, predicted)\n"
      ],
      "execution_count": null,
      "outputs": []
    }
  ]
}