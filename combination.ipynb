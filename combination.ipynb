{
  "nbformat": 4,
  "nbformat_minor": 0,
  "metadata": {
    "kernelspec": {
      "display_name": "Python 3",
      "language": "python",
      "name": "python3"
    },
    "language_info": {
      "codemirror_mode": {
        "name": "ipython",
        "version": 3
      },
      "file_extension": ".py",
      "mimetype": "text/x-python",
      "name": "python",
      "nbconvert_exporter": "python",
      "pygments_lexer": "ipython3",
      "version": "3.6.12"
    },
    "colab": {
      "name": "combination.ipynb",
      "provenance": [],
      "collapsed_sections": []
    },
    "accelerator": "GPU",
    "widgets": {
      "application/vnd.jupyter.widget-state+json": {
        "0abb44175e0d4dbcaea504d76149fd32": {
          "model_module": "@jupyter-widgets/controls",
          "model_name": "HBoxModel",
          "model_module_version": "2.0.0",
          "state": {
            "_dom_classes": [],
            "_model_module": "@jupyter-widgets/controls",
            "_model_module_version": "2.0.0",
            "_model_name": "HBoxModel",
            "_view_count": null,
            "_view_module": "@jupyter-widgets/controls",
            "_view_module_version": "2.0.0",
            "_view_name": "HBoxView",
            "box_style": "",
            "children": [
              "IPY_MODEL_c20aad3ef5c0426da21d15aec7abe126",
              "IPY_MODEL_e31c50baacf34ccb86e642519e3df771",
              "IPY_MODEL_939706d65f9842dc94c80608fdb583e0"
            ],
            "layout": "IPY_MODEL_49b7e1a3d16b49de9972453b8c82ccd9",
            "tabbable": null,
            "tooltip": null
          }
        },
        "c20aad3ef5c0426da21d15aec7abe126": {
          "model_module": "@jupyter-widgets/controls",
          "model_name": "HTMLModel",
          "model_module_version": "2.0.0",
          "state": {
            "_dom_classes": [],
            "_model_module": "@jupyter-widgets/controls",
            "_model_module_version": "2.0.0",
            "_model_name": "HTMLModel",
            "_view_count": null,
            "_view_module": "@jupyter-widgets/controls",
            "_view_module_version": "2.0.0",
            "_view_name": "HTMLView",
            "description": "",
            "description_allow_html": false,
            "layout": "IPY_MODEL_d2478fce8cf44bf49cd68a0766c439f0",
            "placeholder": "​",
            "style": "IPY_MODEL_7f0051cc71b647419223a5ace98b0431",
            "tabbable": null,
            "tooltip": null,
            "value": "100%"
          }
        },
        "e31c50baacf34ccb86e642519e3df771": {
          "model_module": "@jupyter-widgets/controls",
          "model_name": "FloatProgressModel",
          "model_module_version": "2.0.0",
          "state": {
            "_dom_classes": [],
            "_model_module": "@jupyter-widgets/controls",
            "_model_module_version": "2.0.0",
            "_model_name": "FloatProgressModel",
            "_view_count": null,
            "_view_module": "@jupyter-widgets/controls",
            "_view_module_version": "2.0.0",
            "_view_name": "ProgressView",
            "bar_style": "success",
            "description": "",
            "description_allow_html": false,
            "layout": "IPY_MODEL_00e12b2ffab045daaae3cd9431cd8d48",
            "max": 170498071,
            "min": 0,
            "orientation": "horizontal",
            "style": "IPY_MODEL_aa652e16ead74c56b2529be161152996",
            "tabbable": null,
            "tooltip": null,
            "value": 170498071
          }
        },
        "939706d65f9842dc94c80608fdb583e0": {
          "model_module": "@jupyter-widgets/controls",
          "model_name": "HTMLModel",
          "model_module_version": "2.0.0",
          "state": {
            "_dom_classes": [],
            "_model_module": "@jupyter-widgets/controls",
            "_model_module_version": "2.0.0",
            "_model_name": "HTMLModel",
            "_view_count": null,
            "_view_module": "@jupyter-widgets/controls",
            "_view_module_version": "2.0.0",
            "_view_name": "HTMLView",
            "description": "",
            "description_allow_html": false,
            "layout": "IPY_MODEL_fa60957a954f4e09bf58ab44bc27bdbd",
            "placeholder": "​",
            "style": "IPY_MODEL_99690572bdef4b05b6bbc0372c836e6a",
            "tabbable": null,
            "tooltip": null,
            "value": " 170498071/170498071 [00:02&lt;00:00, 83842954.73it/s]"
          }
        },
        "49b7e1a3d16b49de9972453b8c82ccd9": {
          "model_module": "@jupyter-widgets/base",
          "model_name": "LayoutModel",
          "model_module_version": "2.0.0",
          "state": {
            "_model_module": "@jupyter-widgets/base",
            "_model_module_version": "2.0.0",
            "_model_name": "LayoutModel",
            "_view_count": null,
            "_view_module": "@jupyter-widgets/base",
            "_view_module_version": "2.0.0",
            "_view_name": "LayoutView",
            "align_content": null,
            "align_items": null,
            "align_self": null,
            "border_bottom": null,
            "border_left": null,
            "border_right": null,
            "border_top": null,
            "bottom": null,
            "display": null,
            "flex": null,
            "flex_flow": null,
            "grid_area": null,
            "grid_auto_columns": null,
            "grid_auto_flow": null,
            "grid_auto_rows": null,
            "grid_column": null,
            "grid_gap": null,
            "grid_row": null,
            "grid_template_areas": null,
            "grid_template_columns": null,
            "grid_template_rows": null,
            "height": null,
            "justify_content": null,
            "justify_items": null,
            "left": null,
            "margin": null,
            "max_height": null,
            "max_width": null,
            "min_height": null,
            "min_width": null,
            "object_fit": null,
            "object_position": null,
            "order": null,
            "overflow": null,
            "padding": null,
            "right": null,
            "top": null,
            "visibility": null,
            "width": null
          }
        },
        "d2478fce8cf44bf49cd68a0766c439f0": {
          "model_module": "@jupyter-widgets/base",
          "model_name": "LayoutModel",
          "model_module_version": "2.0.0",
          "state": {
            "_model_module": "@jupyter-widgets/base",
            "_model_module_version": "2.0.0",
            "_model_name": "LayoutModel",
            "_view_count": null,
            "_view_module": "@jupyter-widgets/base",
            "_view_module_version": "2.0.0",
            "_view_name": "LayoutView",
            "align_content": null,
            "align_items": null,
            "align_self": null,
            "border_bottom": null,
            "border_left": null,
            "border_right": null,
            "border_top": null,
            "bottom": null,
            "display": null,
            "flex": null,
            "flex_flow": null,
            "grid_area": null,
            "grid_auto_columns": null,
            "grid_auto_flow": null,
            "grid_auto_rows": null,
            "grid_column": null,
            "grid_gap": null,
            "grid_row": null,
            "grid_template_areas": null,
            "grid_template_columns": null,
            "grid_template_rows": null,
            "height": null,
            "justify_content": null,
            "justify_items": null,
            "left": null,
            "margin": null,
            "max_height": null,
            "max_width": null,
            "min_height": null,
            "min_width": null,
            "object_fit": null,
            "object_position": null,
            "order": null,
            "overflow": null,
            "padding": null,
            "right": null,
            "top": null,
            "visibility": null,
            "width": null
          }
        },
        "7f0051cc71b647419223a5ace98b0431": {
          "model_module": "@jupyter-widgets/controls",
          "model_name": "HTMLStyleModel",
          "model_module_version": "2.0.0",
          "state": {
            "_model_module": "@jupyter-widgets/controls",
            "_model_module_version": "2.0.0",
            "_model_name": "HTMLStyleModel",
            "_view_count": null,
            "_view_module": "@jupyter-widgets/base",
            "_view_module_version": "2.0.0",
            "_view_name": "StyleView",
            "background": null,
            "description_width": "",
            "font_size": null,
            "text_color": null
          }
        },
        "00e12b2ffab045daaae3cd9431cd8d48": {
          "model_module": "@jupyter-widgets/base",
          "model_name": "LayoutModel",
          "model_module_version": "2.0.0",
          "state": {
            "_model_module": "@jupyter-widgets/base",
            "_model_module_version": "2.0.0",
            "_model_name": "LayoutModel",
            "_view_count": null,
            "_view_module": "@jupyter-widgets/base",
            "_view_module_version": "2.0.0",
            "_view_name": "LayoutView",
            "align_content": null,
            "align_items": null,
            "align_self": null,
            "border_bottom": null,
            "border_left": null,
            "border_right": null,
            "border_top": null,
            "bottom": null,
            "display": null,
            "flex": null,
            "flex_flow": null,
            "grid_area": null,
            "grid_auto_columns": null,
            "grid_auto_flow": null,
            "grid_auto_rows": null,
            "grid_column": null,
            "grid_gap": null,
            "grid_row": null,
            "grid_template_areas": null,
            "grid_template_columns": null,
            "grid_template_rows": null,
            "height": null,
            "justify_content": null,
            "justify_items": null,
            "left": null,
            "margin": null,
            "max_height": null,
            "max_width": null,
            "min_height": null,
            "min_width": null,
            "object_fit": null,
            "object_position": null,
            "order": null,
            "overflow": null,
            "padding": null,
            "right": null,
            "top": null,
            "visibility": null,
            "width": null
          }
        },
        "aa652e16ead74c56b2529be161152996": {
          "model_module": "@jupyter-widgets/controls",
          "model_name": "ProgressStyleModel",
          "model_module_version": "2.0.0",
          "state": {
            "_model_module": "@jupyter-widgets/controls",
            "_model_module_version": "2.0.0",
            "_model_name": "ProgressStyleModel",
            "_view_count": null,
            "_view_module": "@jupyter-widgets/base",
            "_view_module_version": "2.0.0",
            "_view_name": "StyleView",
            "bar_color": null,
            "description_width": ""
          }
        },
        "fa60957a954f4e09bf58ab44bc27bdbd": {
          "model_module": "@jupyter-widgets/base",
          "model_name": "LayoutModel",
          "model_module_version": "2.0.0",
          "state": {
            "_model_module": "@jupyter-widgets/base",
            "_model_module_version": "2.0.0",
            "_model_name": "LayoutModel",
            "_view_count": null,
            "_view_module": "@jupyter-widgets/base",
            "_view_module_version": "2.0.0",
            "_view_name": "LayoutView",
            "align_content": null,
            "align_items": null,
            "align_self": null,
            "border_bottom": null,
            "border_left": null,
            "border_right": null,
            "border_top": null,
            "bottom": null,
            "display": null,
            "flex": null,
            "flex_flow": null,
            "grid_area": null,
            "grid_auto_columns": null,
            "grid_auto_flow": null,
            "grid_auto_rows": null,
            "grid_column": null,
            "grid_gap": null,
            "grid_row": null,
            "grid_template_areas": null,
            "grid_template_columns": null,
            "grid_template_rows": null,
            "height": null,
            "justify_content": null,
            "justify_items": null,
            "left": null,
            "margin": null,
            "max_height": null,
            "max_width": null,
            "min_height": null,
            "min_width": null,
            "object_fit": null,
            "object_position": null,
            "order": null,
            "overflow": null,
            "padding": null,
            "right": null,
            "top": null,
            "visibility": null,
            "width": null
          }
        },
        "99690572bdef4b05b6bbc0372c836e6a": {
          "model_module": "@jupyter-widgets/controls",
          "model_name": "HTMLStyleModel",
          "model_module_version": "2.0.0",
          "state": {
            "_model_module": "@jupyter-widgets/controls",
            "_model_module_version": "2.0.0",
            "_model_name": "HTMLStyleModel",
            "_view_count": null,
            "_view_module": "@jupyter-widgets/base",
            "_view_module_version": "2.0.0",
            "_view_name": "StyleView",
            "background": null,
            "description_width": "",
            "font_size": null,
            "text_color": null
          }
        }
      }
    }
  },
  "cells": [
    {
      "cell_type": "markdown",
      "metadata": {
        "id": "eUf56UTX7U1n",
        "pycharm": {
          "name": "#%% md\n"
        }
      },
      "source": [
        "# Training a Compact Vision Transformer\n",
        "\n",
        "\n",
        "This is it. You can now train a transformer on very limited data from scratch on very limited resources.\n",
        "\n",
        "### CIFAR-10\n",
        "\n",
        "We're going to use ``torchvision``'s CIFAR-10 dataset, which will automatically download it as well.\n",
        "\n",
        "Its classes are: ‘airplane’, ‘automobile’, ‘bird’, ‘cat’, ‘deer’,\n",
        "‘dog’, ‘frog’, ‘horse’, ‘ship’, ‘truck’. The images in CIFAR-10 are of\n",
        "size 3x32x32, i.e. 3-channel color images of 32x32 pixels in size.\n",
        "\n",
        "\n",
        "### Training an image classifier\n",
        "\n",
        "We will do the following steps in order:\n",
        "\n",
        "1. Download CIFAR-10 and load it\n",
        "2. Clone the Compact Transformers repository from GitHub\n",
        "3. Train the network on CIFAR-10\n",
        "4. Load the trained checkpoint\n",
        "5. Test the network on the test data"
      ]
    },
    {
      "cell_type": "markdown",
      "metadata": {
        "id": "vOUzXmWrfQ0O",
        "pycharm": {
          "name": "#%% md\n"
        }
      },
      "source": [
        "## 1. Loading the prerequisites"
      ]
    },
    {
      "cell_type": "markdown",
      "metadata": {
        "id": "aamRUhwbkKng",
        "pycharm": {
          "name": "#%% md\n"
        }
      },
      "source": [
        "We need to import some basic requirements (PyTorch, Torchvision, and matplotlib)."
      ]
    },
    {
      "cell_type": "code",
      "metadata": {
        "id": "QFn8eXJ-kGH2",
        "pycharm": {
          "name": "#%%\n"
        }
      },
      "source": [
        "import torch\n",
        "import torchvision\n",
        "import torchvision.transforms as transforms\n",
        "import matplotlib.pyplot as plt\n",
        "\n",
        "\n",
        "cifar10_mean, cifar10_std = [0.4914, 0.4822, 0.4465], [0.2470, 0.2435, 0.2616]\n",
        "transform = transforms.Compose(\n",
        "    [transforms.ToTensor(),\n",
        "     transforms.Normalize(cifar10_mean, cifar10_std)])\n",
        "\n",
        "\n",
        "classes = ('plane', 'car', 'bird', 'cat',\n",
        "           'deer', 'dog', 'frog', 'horse', 'ship', 'truck')"
      ],
      "execution_count": 1,
      "outputs": []
    },
    {
      "cell_type": "markdown",
      "metadata": {
        "id": "gjdc84zvkV0k",
        "pycharm": {
          "name": "#%% md\n"
        }
      },
      "source": [
        "This function will plot images, their labels and the predicted labels (if specified). We'll use it as we go through."
      ]
    },
    {
      "cell_type": "code",
      "metadata": {
        "id": "34kaamob7U1m",
        "pycharm": {
          "name": "#%%\n"
        }
      },
      "source": [
        "def imshow(images, labels, predicted_labels=None):\n",
        "    # Using torchvision to make a grid of the images\n",
        "    img = torchvision.utils.make_grid(images)\n",
        "\n",
        "    # Inverting the normalization\n",
        "    img = img.permute(1, 2, 0).mul(torch.tensor(cifar10_std))\n",
        "    img += torch.tensor(cifar10_mean)\n",
        "\n",
        "    # Plotting the grid\n",
        "    fig, ax = plt.subplots(figsize=(6, 24))\n",
        "    plt.imshow(img)\n",
        "\n",
        "    if predicted_labels is not None:\n",
        "        # Outputing the predicted labels\n",
        "        ax.set_xlabel('Predicted labels', fontsize=18, labelpad=12)\n",
        "        ax.set_xticks(torch.arange(len(images)) * 35 + 20)\n",
        "        ax.set_xticklabels([classes[predicted_labels[j]] \n",
        "                            for j in range(len(images))], fontsize=14)\n",
        "    \n",
        "    # Outputing the ground truth labels\n",
        "    gax = ax.secondary_xaxis('top')\n",
        "    gax.set_xlabel('Ground truth', fontsize=18, labelpad=12)\n",
        "    gax.set_xticks(torch.arange(len(images)) * 35 + 20)\n",
        "    gax.set_xticklabels([classes[labels[j]] \n",
        "                         for j in range(len(images))], fontsize=14)\n",
        "    plt.show()"
      ],
      "execution_count": 2,
      "outputs": []
    },
    {
      "cell_type": "markdown",
      "metadata": {
        "id": "NtmgJyxI7U1p",
        "pycharm": {
          "name": "#%% md\n"
        }
      },
      "source": [
        "## 2. Loading and normalizing CIFAR10\n",
        "Using ``torchvision``, it’s extremely easy to load CIFAR10."
      ]
    },
    {
      "cell_type": "code",
      "metadata": {
        "id": "EM1GR73T7U1p",
        "colab": {
          "base_uri": "https://localhost:8080/",
          "height": 52,
          "referenced_widgets": [
            "0abb44175e0d4dbcaea504d76149fd32",
            "c20aad3ef5c0426da21d15aec7abe126",
            "e31c50baacf34ccb86e642519e3df771",
            "939706d65f9842dc94c80608fdb583e0",
            "49b7e1a3d16b49de9972453b8c82ccd9",
            "d2478fce8cf44bf49cd68a0766c439f0",
            "7f0051cc71b647419223a5ace98b0431",
            "00e12b2ffab045daaae3cd9431cd8d48",
            "aa652e16ead74c56b2529be161152996",
            "fa60957a954f4e09bf58ab44bc27bdbd",
            "99690572bdef4b05b6bbc0372c836e6a"
          ]
        },
        "outputId": "85644de3-27f1-43de-c6c6-7c3f5d77e1de",
        "pycharm": {
          "name": "#%%\n"
        }
      },
      "source": [
        "batch_size = 4\n",
        "\n",
        "trainset = torchvision.datasets.CIFAR10(root='./cifar10', train=True,\n",
        "                                        download=True, transform=transform)\n",
        "trainloader = torch.utils.data.DataLoader(trainset, batch_size=batch_size,\n",
        "                                          shuffle=True, num_workers=2)\n",
        "\n",
        "testset = torchvision.datasets.CIFAR10(root='./cifar10', train=False,\n",
        "                                       download=False, transform=transform)\n",
        "testloader = torch.utils.data.DataLoader(testset, batch_size=batch_size,\n",
        "                                         shuffle=False, num_workers=2)\n",
        "\n",
        "dataiter = iter(trainloader)\n",
        "test_dataiter = iter(testloader)"
      ],
      "execution_count": 3,
      "outputs": [
        {
          "output_type": "stream",
          "name": "stdout",
          "text": [
            "Downloading https://www.cs.toronto.edu/~kriz/cifar-10-python.tar.gz to ./cifar10/cifar-10-python.tar.gz\n"
          ]
        },
        {
          "output_type": "display_data",
          "data": {
            "text/plain": [
              "  0%|          | 0/170498071 [00:00<?, ?it/s]"
            ],
            "application/vnd.jupyter.widget-view+json": {
              "version_major": 2,
              "version_minor": 0,
              "model_id": "0abb44175e0d4dbcaea504d76149fd32"
            },
            "application/json": {
              "n": 0,
              "total": 170498071,
              "elapsed": 0.10233259201049805,
              "ncols": null,
              "nrows": null,
              "prefix": "",
              "ascii": false,
              "unit": "it",
              "unit_scale": false,
              "rate": null,
              "bar_format": null,
              "postfix": null,
              "unit_divisor": 1000,
              "initial": 0,
              "colour": null
            }
          },
          "metadata": {}
        },
        {
          "output_type": "stream",
          "name": "stdout",
          "text": [
            "Extracting ./cifar10/cifar-10-python.tar.gz to ./cifar10\n"
          ]
        }
      ]
    },
    {
      "cell_type": "markdown",
      "metadata": {
        "id": "SrEIjTCOjVim",
        "pycharm": {
          "name": "#%% md\n"
        }
      },
      "source": [
        "**Let's view some of the training images, for fun.** \\\\\n",
        "Run this cell to see outputs. \\\\\n",
        "You can run this cell multiple times.\n",
        "Each run should return different images"
      ]
    },
    {
      "cell_type": "code",
      "metadata": {
        "id": "UA29qUBf7U1q",
        "colab": {
          "base_uri": "https://localhost:8080/",
          "height": 182
        },
        "outputId": "a12e5962-e212-4ba0-df86-956f5db7b4f6",
        "pycharm": {
          "name": "#%%\n"
        }
      },
      "source": [
        "images, labels = dataiter.next()\n",
        "imshow(images, labels)"
      ],
      "execution_count": 4,
      "outputs": [
        {
          "output_type": "display_data",
          "data": {
            "text/plain": [
              "<Figure size 432x1728 with 1 Axes>"
            ],
            "image/png": "[encoded data removed]"
          },
          "metadata": {
            "needs_background": "light"
          }
        }
      ]
    },
    {
      "cell_type": "markdown",
      "metadata": {
        "id": "8wc1UQqi7U1q",
        "pycharm": {
          "name": "#%% md\n"
        }
      },
      "source": [
        "## 3. Train CCT on CIFAR-10\n",
        "We're going to clone the repository first.\n"
      ]
    },
    {
      "cell_type": "code",
      "metadata": {
        "id": "Bb0MqQMO78qz",
        "colab": {
          "base_uri": "https://localhost:8080/"
        },
        "outputId": "9004da3e-7db3-4160-becf-4cf651c12989",
        "pycharm": {
          "name": "#%%\n"
        }
      },
      "source": [
        "from os.path import exists\n",
        "if not exists(\"SOT_ViT\"):\n",
        "  !git clone https://github.com/tomkark/SOT_ViT.git\n",
        "else:\n",
        "  %cd SOT_ViT\n",
        "  !git pull\n",
        "  %cd .."
      ],
      "execution_count": 5,
      "outputs": [
        {
          "output_type": "stream",
          "name": "stdout",
          "text": [
            "Cloning into 'SOT_ViT'...\n",
            "remote: Enumerating objects: 24, done.\u001b[K\n",
            "remote: Counting objects: 100% (24/24), done.\u001b[K\n",
            "remote: Compressing objects: 100% (20/20), done.\u001b[K\n",
            "remote: Total 24 (delta 3), reused 24 (delta 3), pack-reused 0\u001b[K\n",
            "Unpacking objects: 100% (24/24), done.\n"
          ]
        }
      ]
    },
    {
      "cell_type": "markdown",
      "metadata": {
        "id": "rhasF53HYSef",
        "pycharm": {
          "name": "#%% md\n"
        }
      },
      "source": [
        "We'll train $CCT-2/3\\times2$ from the paper ( $\\approx 280$ K parameters) for $30$ epochs. It should take around 10 minutes (may vary depending on which GPU Colab assigns to you)."
      ]
    },
    {
      "cell_type": "markdown",
      "metadata": {
        "id": "YllIsD2xjj7j",
        "pycharm": {
          "name": "#%% md\n"
        }
      },
      "source": [
        "Training is fairly simple,\n",
        "we'll just run `main.py` with the the appropriate args.\n",
        "The script will train and logs performance and time."
      ]
    },
    {
      "cell_type": "code",
      "metadata": {
        "colab": {
          "base_uri": "https://localhost:8080/"
        },
        "id": "nZa0tyEO8F9S",
        "outputId": "617fe89d-5478-43c0-cb3e-756f274d6005",
        "pycharm": {
          "name": "#%%\n"
        }
      },
      "source": [
        "!python SOT_ViT/main.py \\\n",
        "       --model cct_2 \\\n",
        "       --conv-size 3 \\\n",
        "       --conv-layers 2 \\\n",
        "       --print-freq -1 \\\n",
        "       --epochs 30 \\\n",
        "       --workers 2 \\\n",
        "       ../cifar10"
      ],
      "execution_count": 6,
      "outputs": [
        {
          "output_type": "stream",
          "name": "stdout",
          "text": [
            "Downloading https://www.cs.toronto.edu/~kriz/cifar-10-python.tar.gz to ../cifar10/cifar-10-python.tar.gz\n",
            "100% 170498071/170498071 [00:02<00:00, 84216375.42it/s]\n",
            "Extracting ../cifar10/cifar-10-python.tar.gz to ../cifar10\n",
            "Beginning training\n",
            "[Epoch 1] \t \t Top-1  32.73 \t \t Time: 0.54\n",
            "\n"
          ]
        }
      ]
    },
    {
      "cell_type": "markdown",
      "metadata": {
        "id": "NrtaPljN7U1t",
        "pycharm": {
          "name": "#%% md\n"
        }
      },
      "source": [
        "## 4. Evaluation\n",
        "Now we're going to load our trained transformer from file. \\\\\n",
        "The script stores checkpoints in `checkpoint.pth`."
      ]
    },
    {
      "cell_type": "code",
      "metadata": {
        "id": "fLkpNzIO7U1u",
        "colab": {
          "base_uri": "https://localhost:8080/",
          "height": 373
        },
        "outputId": "7cd99d4f-34f5-4bba-f4f8-0aa3fba01c75",
        "pycharm": {
          "name": "#%%\n"
        }
      },
      "source": [
        "from src.cct import cct_2\n",
        "\n",
        "transformer = cct_2(img_size=32,\n",
        "                    num_classes=10,\n",
        "                    positional_embedding='learnable',\n",
        "                    n_conv_layers=2,\n",
        "                    kernel_size=3)\n",
        "\n",
        "transformer.load_state_dict(torch.load('checkpoint.pth'))"
      ],
      "execution_count": 7,
      "outputs": [
        {
          "output_type": "error",
          "ename": "ModuleNotFoundError",
          "evalue": "ignored",
          "traceback": [
            "\u001b[0;31m---------------------------------------------------------------------------\u001b[0m",
            "\u001b[0;31mModuleNotFoundError\u001b[0m                       Traceback (most recent call last)",
            "\u001b[0;32m<ipython-input-7-e2ed828d69a4>\u001b[0m in \u001b[0;36m<module>\u001b[0;34m\u001b[0m\n\u001b[0;32m----> 1\u001b[0;31m \u001b[0;32mfrom\u001b[0m \u001b[0msrc\u001b[0m\u001b[0;34m.\u001b[0m\u001b[0mcct\u001b[0m \u001b[0;32mimport\u001b[0m \u001b[0mcct_2\u001b[0m\u001b[0;34m\u001b[0m\u001b[0;34m\u001b[0m\u001b[0m\n\u001b[0m\u001b[1;32m      2\u001b[0m \u001b[0;34m\u001b[0m\u001b[0m\n\u001b[1;32m      3\u001b[0m transformer = cct_2(img_size=32,\n\u001b[1;32m      4\u001b[0m                     \u001b[0mnum_classes\u001b[0m\u001b[0;34m=\u001b[0m\u001b[0;36m10\u001b[0m\u001b[0;34m,\u001b[0m\u001b[0;34m\u001b[0m\u001b[0;34m\u001b[0m\u001b[0m\n\u001b[1;32m      5\u001b[0m                     \u001b[0mpositional_embedding\u001b[0m\u001b[0;34m=\u001b[0m\u001b[0;34m'learnable'\u001b[0m\u001b[0;34m,\u001b[0m\u001b[0;34m\u001b[0m\u001b[0;34m\u001b[0m\u001b[0m\n",
            "\u001b[0;31mModuleNotFoundError\u001b[0m: No module named 'src'",
            "",
            "\u001b[0;31m---------------------------------------------------------------------------\u001b[0;32m\nNOTE: If your import is failing due to a missing package, you can\nmanually install dependencies using either !pip or !apt.\n\nTo view examples of installing some common dependencies, click the\n\"Open Examples\" button below.\n\u001b[0;31m---------------------------------------------------------------------------\u001b[0m\n"
          ],
          "errorDetails": {
            "actions": [
              {
                "action": "open_url",
                "actionText": "Open Examples",
                "url": "/notebooks/snippets/importing_libraries.ipynb"
              }
            ]
          }
        }
      ]
    },
    {
      "cell_type": "markdown",
      "metadata": {
        "id": "to3894whjw1j",
        "pycharm": {
          "name": "#%% md\n"
        }
      },
      "source": [
        "**Okay, now let us see what the transformer thinks these examples above are:** \\\\\n",
        "Run this cell to see outputs. \\\\\n",
        "You can run this cell multiple times.\n",
        "Each run should return different images"
      ]
    },
    {
      "cell_type": "code",
      "metadata": {
        "id": "WXb95hF1ZhPN",
        "pycharm": {
          "name": "#%%\n"
        }
      },
      "source": [
        "images, labels = test_dataiter.next()\n",
        "\n",
        "_, predicted = torch.max(transformer(images), 1)\n",
        "\n",
        "imshow(images, labels, predicted)"
      ],
      "execution_count": null,
      "outputs": []
    }
  ]
}