{
  "nbformat": 4,
  "nbformat_minor": 0,
  "metadata": {
    "kernelspec": {
      "display_name": "Python 3",
      "language": "python",
      "name": "python3"
    },
    "language_info": {
      "codemirror_mode": {
        "name": "ipython",
        "version": 3
      },
      "file_extension": ".py",
      "mimetype": "text/x-python",
      "name": "python",
      "nbconvert_exporter": "python",
      "pygments_lexer": "ipython3",
      "version": "3.6.12"
    },
    "colab": {
      "name": "combination.ipynb",
      "provenance": [],
      "collapsed_sections": [],
      "toc_visible": true
    },
    "accelerator": "GPU",
    "widgets": {
      "application/vnd.jupyter.widget-state+json": {
        "d69ea09b4e644faea06a579418408572": {
          "model_module": "@jupyter-widgets/controls",
          "model_name": "HBoxModel",
          "model_module_version": "2.0.0",
          "state": {
            "_dom_classes": [],
            "_model_module": "@jupyter-widgets/controls",
            "_model_module_version": "2.0.0",
            "_model_name": "HBoxModel",
            "_view_count": null,
            "_view_module": "@jupyter-widgets/controls",
            "_view_module_version": "2.0.0",
            "_view_name": "HBoxView",
            "box_style": "",
            "children": [
              "IPY_MODEL_cd51fd6172484160ac5f69e82ab5d5ba",
              "IPY_MODEL_002ffaccf2164236b0aea0df3cab51f8",
              "IPY_MODEL_14c88bb59e7a414d9bc223a956bcf575"
            ],
            "layout": "IPY_MODEL_6f460cb047d14912954c976f539db9bc",
            "tabbable": null,
            "tooltip": null
          }
        },
        "cd51fd6172484160ac5f69e82ab5d5ba": {
          "model_module": "@jupyter-widgets/controls",
          "model_name": "HTMLModel",
          "model_module_version": "2.0.0",
          "state": {
            "_dom_classes": [],
            "_model_module": "@jupyter-widgets/controls",
            "_model_module_version": "2.0.0",
            "_model_name": "HTMLModel",
            "_view_count": null,
            "_view_module": "@jupyter-widgets/controls",
            "_view_module_version": "2.0.0",
            "_view_name": "HTMLView",
            "description": "",
            "description_allow_html": false,
            "layout": "IPY_MODEL_ff5b5120bbc94930a280e2c662d0b735",
            "placeholder": "​",
            "style": "IPY_MODEL_3b035b834b3449b49e4bb9e96a1f4cff",
            "tabbable": null,
            "tooltip": null,
            "value": "100%"
          }
        },
        "002ffaccf2164236b0aea0df3cab51f8": {
          "model_module": "@jupyter-widgets/controls",
          "model_name": "FloatProgressModel",
          "model_module_version": "2.0.0",
          "state": {
            "_dom_classes": [],
            "_model_module": "@jupyter-widgets/controls",
            "_model_module_version": "2.0.0",
            "_model_name": "FloatProgressModel",
            "_view_count": null,
            "_view_module": "@jupyter-widgets/controls",
            "_view_module_version": "2.0.0",
            "_view_name": "ProgressView",
            "bar_style": "success",
            "description": "",
            "description_allow_html": false,
            "layout": "IPY_MODEL_d5544a532bda4d22a0c972a3d2bc1c3b",
            "max": 170498071,
            "min": 0,
            "orientation": "horizontal",
            "style": "IPY_MODEL_06918368ca884c80a9ecb2541054d13f",
            "tabbable": null,
            "tooltip": null,
            "value": 170498071
          }
        },
        "14c88bb59e7a414d9bc223a956bcf575": {
          "model_module": "@jupyter-widgets/controls",
          "model_name": "HTMLModel",
          "model_module_version": "2.0.0",
          "state": {
            "_dom_classes": [],
            "_model_module": "@jupyter-widgets/controls",
            "_model_module_version": "2.0.0",
            "_model_name": "HTMLModel",
            "_view_count": null,
            "_view_module": "@jupyter-widgets/controls",
            "_view_module_version": "2.0.0",
            "_view_name": "HTMLView",
            "description": "",
            "description_allow_html": false,
            "layout": "IPY_MODEL_614741fa7ba64f6fbfc608613964ae04",
            "placeholder": "​",
            "style": "IPY_MODEL_ebaa791d04154314bafbb4592e5b6b54",
            "tabbable": null,
            "tooltip": null,
            "value": " 170498071/170498071 [00:01&lt;00:00, 112742214.63it/s]"
          }
        },
        "6f460cb047d14912954c976f539db9bc": {
          "model_module": "@jupyter-widgets/base",
          "model_name": "LayoutModel",
          "model_module_version": "2.0.0",
          "state": {
            "_model_module": "@jupyter-widgets/base",
            "_model_module_version": "2.0.0",
            "_model_name": "LayoutModel",
            "_view_count": null,
            "_view_module": "@jupyter-widgets/base",
            "_view_module_version": "2.0.0",
            "_view_name": "LayoutView",
            "align_content": null,
            "align_items": null,
            "align_self": null,
            "border_bottom": null,
            "border_left": null,
            "border_right": null,
            "border_top": null,
            "bottom": null,
            "display": null,
            "flex": null,
            "flex_flow": null,
            "grid_area": null,
            "grid_auto_columns": null,
            "grid_auto_flow": null,
            "grid_auto_rows": null,
            "grid_column": null,
            "grid_gap": null,
            "grid_row": null,
            "grid_template_areas": null,
            "grid_template_columns": null,
            "grid_template_rows": null,
            "height": null,
            "justify_content": null,
            "justify_items": null,
            "left": null,
            "margin": null,
            "max_height": null,
            "max_width": null,
            "min_height": null,
            "min_width": null,
            "object_fit": null,
            "object_position": null,
            "order": null,
            "overflow": null,
            "padding": null,
            "right": null,
            "top": null,
            "visibility": null,
            "width": null
          }
        },
        "ff5b5120bbc94930a280e2c662d0b735": {
          "model_module": "@jupyter-widgets/base",
          "model_name": "LayoutModel",
          "model_module_version": "2.0.0",
          "state": {
            "_model_module": "@jupyter-widgets/base",
            "_model_module_version": "2.0.0",
            "_model_name": "LayoutModel",
            "_view_count": null,
            "_view_module": "@jupyter-widgets/base",
            "_view_module_version": "2.0.0",
            "_view_name": "LayoutView",
            "align_content": null,
            "align_items": null,
            "align_self": null,
            "border_bottom": null,
            "border_left": null,
            "border_right": null,
            "border_top": null,
            "bottom": null,
            "display": null,
            "flex": null,
            "flex_flow": null,
            "grid_area": null,
            "grid_auto_columns": null,
            "grid_auto_flow": null,
            "grid_auto_rows": null,
            "grid_column": null,
            "grid_gap": null,
            "grid_row": null,
            "grid_template_areas": null,
            "grid_template_columns": null,
            "grid_template_rows": null,
            "height": null,
            "justify_content": null,
            "justify_items": null,
            "left": null,
            "margin": null,
            "max_height": null,
            "max_width": null,
            "min_height": null,
            "min_width": null,
            "object_fit": null,
            "object_position": null,
            "order": null,
            "overflow": null,
            "padding": null,
            "right": null,
            "top": null,
            "visibility": null,
            "width": null
          }
        },
        "3b035b834b3449b49e4bb9e96a1f4cff": {
          "model_module": "@jupyter-widgets/controls",
          "model_name": "HTMLStyleModel",
          "model_module_version": "2.0.0",
          "state": {
            "_model_module": "@jupyter-widgets/controls",
            "_model_module_version": "2.0.0",
            "_model_name": "HTMLStyleModel",
            "_view_count": null,
            "_view_module": "@jupyter-widgets/base",
            "_view_module_version": "2.0.0",
            "_view_name": "StyleView",
            "background": null,
            "description_width": "",
            "font_size": null,
            "text_color": null
          }
        },
        "d5544a532bda4d22a0c972a3d2bc1c3b": {
          "model_module": "@jupyter-widgets/base",
          "model_name": "LayoutModel",
          "model_module_version": "2.0.0",
          "state": {
            "_model_module": "@jupyter-widgets/base",
            "_model_module_version": "2.0.0",
            "_model_name": "LayoutModel",
            "_view_count": null,
            "_view_module": "@jupyter-widgets/base",
            "_view_module_version": "2.0.0",
            "_view_name": "LayoutView",
            "align_content": null,
            "align_items": null,
            "align_self": null,
            "border_bottom": null,
            "border_left": null,
            "border_right": null,
            "border_top": null,
            "bottom": null,
            "display": null,
            "flex": null,
            "flex_flow": null,
            "grid_area": null,
            "grid_auto_columns": null,
            "grid_auto_flow": null,
            "grid_auto_rows": null,
            "grid_column": null,
            "grid_gap": null,
            "grid_row": null,
            "grid_template_areas": null,
            "grid_template_columns": null,
            "grid_template_rows": null,
            "height": null,
            "justify_content": null,
            "justify_items": null,
            "left": null,
            "margin": null,
            "max_height": null,
            "max_width": null,
            "min_height": null,
            "min_width": null,
            "object_fit": null,
            "object_position": null,
            "order": null,
            "overflow": null,
            "padding": null,
            "right": null,
            "top": null,
            "visibility": null,
            "width": null
          }
        },
        "06918368ca884c80a9ecb2541054d13f": {
          "model_module": "@jupyter-widgets/controls",
          "model_name": "ProgressStyleModel",
          "model_module_version": "2.0.0",
          "state": {
            "_model_module": "@jupyter-widgets/controls",
            "_model_module_version": "2.0.0",
            "_model_name": "ProgressStyleModel",
            "_view_count": null,
            "_view_module": "@jupyter-widgets/base",
            "_view_module_version": "2.0.0",
            "_view_name": "StyleView",
            "bar_color": null,
            "description_width": ""
          }
        },
        "614741fa7ba64f6fbfc608613964ae04": {
          "model_module": "@jupyter-widgets/base",
          "model_name": "LayoutModel",
          "model_module_version": "2.0.0",
          "state": {
            "_model_module": "@jupyter-widgets/base",
            "_model_module_version": "2.0.0",
            "_model_name": "LayoutModel",
            "_view_count": null,
            "_view_module": "@jupyter-widgets/base",
            "_view_module_version": "2.0.0",
            "_view_name": "LayoutView",
            "align_content": null,
            "align_items": null,
            "align_self": null,
            "border_bottom": null,
            "border_left": null,
            "border_right": null,
            "border_top": null,
            "bottom": null,
            "display": null,
            "flex": null,
            "flex_flow": null,
            "grid_area": null,
            "grid_auto_columns": null,
            "grid_auto_flow": null,
            "grid_auto_rows": null,
            "grid_column": null,
            "grid_gap": null,
            "grid_row": null,
            "grid_template_areas": null,
            "grid_template_columns": null,
            "grid_template_rows": null,
            "height": null,
            "justify_content": null,
            "justify_items": null,
            "left": null,
            "margin": null,
            "max_height": null,
            "max_width": null,
            "min_height": null,
            "min_width": null,
            "object_fit": null,
            "object_position": null,
            "order": null,
            "overflow": null,
            "padding": null,
            "right": null,
            "top": null,
            "visibility": null,
            "width": null
          }
        },
        "ebaa791d04154314bafbb4592e5b6b54": {
          "model_module": "@jupyter-widgets/controls",
          "model_name": "HTMLStyleModel",
          "model_module_version": "2.0.0",
          "state": {
            "_model_module": "@jupyter-widgets/controls",
            "_model_module_version": "2.0.0",
            "_model_name": "HTMLStyleModel",
            "_view_count": null,
            "_view_module": "@jupyter-widgets/base",
            "_view_module_version": "2.0.0",
            "_view_name": "StyleView",
            "background": null,
            "description_width": "",
            "font_size": null,
            "text_color": null
          }
        }
      }
    }
  },
  "cells": [
    {
      "cell_type": "markdown",
      "metadata": {
        "id": "eUf56UTX7U1n",
        "pycharm": {
          "name": "#%% md\n"
        }
      },
      "source": [
        "# Training a Compact Vision Transformer\n",
        "\n",
        "\n",
        "This is it. You can now train a transformer on very limited data from scratch on very limited resources.\n",
        "\n",
        "### CIFAR-10\n",
        "\n",
        "We're going to use ``torchvision``'s CIFAR-10 dataset, which will automatically download it as well.\n",
        "\n",
        "Its classes are: ‘airplane’, ‘automobile’, ‘bird’, ‘cat’, ‘deer’,\n",
        "‘dog’, ‘frog’, ‘horse’, ‘ship’, ‘truck’. The images in CIFAR-10 are of\n",
        "size 3x32x32, i.e. 3-channel color images of 32x32 pixels in size.\n",
        "\n",
        "\n",
        "### Training an image classifier\n",
        "\n",
        "We will do the following steps in order:\n",
        "\n",
        "1. Download CIFAR-10 and load it\n",
        "2. Clone the Compact Transformers repository from GitHub\n",
        "3. Train the network on CIFAR-10\n",
        "4. Load the trained checkpoint\n",
        "5. Test the network on the test data"
      ]
    },
    {
      "cell_type": "markdown",
      "metadata": {
        "id": "vOUzXmWrfQ0O",
        "pycharm": {
          "name": "#%% md\n"
        }
      },
      "source": [
        "## 1. Loading the prerequisites"
      ]
    },
    {
      "cell_type": "markdown",
      "metadata": {
        "id": "aamRUhwbkKng",
        "pycharm": {
          "name": "#%% md\n"
        }
      },
      "source": [
        "We need to import some basic requirements (PyTorch, Torchvision, and matplotlib)."
      ]
    },
    {
      "cell_type": "code",
      "metadata": {
        "id": "QFn8eXJ-kGH2",
        "pycharm": {
          "name": "#%%\n"
        }
      },
      "source": [
        "import torch\n",
        "import torchvision\n",
        "import torchvision.transforms as transforms\n",
        "import matplotlib.pyplot as plt\n",
        "\n",
        "\n",
        "cifar10_mean, cifar10_std = [0.4914, 0.4822, 0.4465], [0.2470, 0.2435, 0.2616]\n",
        "transform = transforms.Compose(\n",
        "    [transforms.ToTensor(),\n",
        "     transforms.Normalize(cifar10_mean, cifar10_std)])\n",
        "\n",
        "\n",
        "classes = ('plane', 'car', 'bird', 'cat',\n",
        "           'deer', 'dog', 'frog', 'horse', 'ship', 'truck')"
      ],
      "execution_count": 3,
      "outputs": []
    },
    {
      "cell_type": "markdown",
      "metadata": {
        "id": "gjdc84zvkV0k",
        "pycharm": {
          "name": "#%% md\n"
        }
      },
      "source": [
        "This function will plot images, their labels and the predicted labels (if specified). We'll use it as we go through."
      ]
    },
    {
      "cell_type": "code",
      "metadata": {
        "id": "34kaamob7U1m",
        "pycharm": {
          "name": "#%%\n"
        }
      },
      "source": [
        "def imshow(images, labels, predicted_labels=None):\n",
        "    # Using torchvision to make a grid of the images\n",
        "    img = torchvision.utils.make_grid(images)\n",
        "\n",
        "    # Inverting the normalization\n",
        "    img = img.permute(1, 2, 0).mul(torch.tensor(cifar10_std))\n",
        "    img += torch.tensor(cifar10_mean)\n",
        "\n",
        "    # Plotting the grid\n",
        "    fig, ax = plt.subplots(figsize=(6, 24))\n",
        "    plt.imshow(img)\n",
        "\n",
        "    if predicted_labels is not None:\n",
        "        # Outputing the predicted labels\n",
        "        ax.set_xlabel('Predicted labels', fontsize=18, labelpad=12)\n",
        "        ax.set_xticks(torch.arange(len(images)) * 35 + 20)\n",
        "        ax.set_xticklabels([classes[predicted_labels[j]] \n",
        "                            for j in range(len(images))], fontsize=14)\n",
        "    \n",
        "    # Outputing the ground truth labels\n",
        "    gax = ax.secondary_xaxis('top')\n",
        "    gax.set_xlabel('Ground truth', fontsize=18, labelpad=12)\n",
        "    gax.set_xticks(torch.arange(len(images)) * 35 + 20)\n",
        "    gax.set_xticklabels([classes[labels[j]] \n",
        "                         for j in range(len(images))], fontsize=14)\n",
        "    plt.show()"
      ],
      "execution_count": 4,
      "outputs": []
    },
    {
      "cell_type": "markdown",
      "metadata": {
        "id": "NtmgJyxI7U1p",
        "pycharm": {
          "name": "#%% md\n"
        }
      },
      "source": [
        "## 2. Loading and normalizing CIFAR10\n",
        "Using ``torchvision``, it’s extremely easy to load CIFAR10."
      ]
    },
    {
      "cell_type": "code",
      "metadata": {
        "id": "EM1GR73T7U1p",
        "colab": {
          "base_uri": "https://localhost:8080/",
          "height": 52,
          "referenced_widgets": [
            "d69ea09b4e644faea06a579418408572",
            "cd51fd6172484160ac5f69e82ab5d5ba",
            "002ffaccf2164236b0aea0df3cab51f8",
            "14c88bb59e7a414d9bc223a956bcf575",
            "6f460cb047d14912954c976f539db9bc",
            "ff5b5120bbc94930a280e2c662d0b735",
            "3b035b834b3449b49e4bb9e96a1f4cff",
            "d5544a532bda4d22a0c972a3d2bc1c3b",
            "06918368ca884c80a9ecb2541054d13f",
            "614741fa7ba64f6fbfc608613964ae04",
            "ebaa791d04154314bafbb4592e5b6b54"
          ]
        },
        "outputId": "2d1a90e5-4e20-4a0d-ce13-6c8dfd6ed6c4",
        "pycharm": {
          "name": "#%%\n"
        }
      },
      "source": [
        "batch_size = 4\n",
        "\n",
        "trainset = torchvision.datasets.CIFAR10(root='./cifar10', train=True,\n",
        "                                        download=True, transform=transform)\n",
        "trainloader = torch.utils.data.DataLoader(trainset, batch_size=batch_size,\n",
        "                                          shuffle=True, num_workers=2)\n",
        "\n",
        "testset = torchvision.datasets.CIFAR10(root='./cifar10', train=False,\n",
        "                                       download=False, transform=transform)\n",
        "testloader = torch.utils.data.DataLoader(testset, batch_size=batch_size,\n",
        "                                         shuffle=False, num_workers=2)\n",
        "\n",
        "dataiter = iter(trainloader)\n",
        "test_dataiter = iter(testloader)"
      ],
      "execution_count": 5,
      "outputs": [
        {
          "output_type": "stream",
          "name": "stdout",
          "text": [
            "Downloading https://www.cs.toronto.edu/~kriz/cifar-10-python.tar.gz to ./cifar10/cifar-10-python.tar.gz\n"
          ]
        },
        {
          "output_type": "display_data",
          "data": {
            "text/plain": [
              "  0%|          | 0/170498071 [00:00<?, ?it/s]"
            ],
            "application/vnd.jupyter.widget-view+json": {
              "version_major": 2,
              "version_minor": 0,
              "model_id": "d69ea09b4e644faea06a579418408572"
            },
            "application/json": {
              "n": 0,
              "total": 170498071,
              "elapsed": 0.018483638763427734,
              "ncols": null,
              "nrows": null,
              "prefix": "",
              "ascii": false,
              "unit": "it",
              "unit_scale": false,
              "rate": null,
              "bar_format": null,
              "postfix": null,
              "unit_divisor": 1000,
              "initial": 0,
              "colour": null
            }
          },
          "metadata": {}
        },
        {
          "output_type": "stream",
          "name": "stdout",
          "text": [
            "Extracting ./cifar10/cifar-10-python.tar.gz to ./cifar10\n"
          ]
        }
      ]
    },
    {
      "cell_type": "markdown",
      "metadata": {
        "id": "SrEIjTCOjVim",
        "pycharm": {
          "name": "#%% md\n"
        }
      },
      "source": [
        "**Let's view some of the training images, for fun.** \\\\\n",
        "Run this cell to see outputs. \\\\\n",
        "You can run this cell multiple times.\n",
        "Each run should return different images"
      ]
    },
    {
      "cell_type": "code",
      "metadata": {
        "id": "UA29qUBf7U1q",
        "colab": {
          "base_uri": "https://localhost:8080/",
          "height": 182
        },
        "outputId": "101b7980-056b-43fb-bad3-0471e3048c0b",
        "pycharm": {
          "name": "#%%\n"
        }
      },
      "source": [
        "images, labels = dataiter.next()\n",
        "imshow(images, labels)"
      ],
      "execution_count": 6,
      "outputs": [
        {
          "output_type": "display_data",
          "data": {
            "text/plain": [
              "<Figure size 432x1728 with 1 Axes>"
            ],
            "image/png": "[encoded data removed]"
          },
          "metadata": {
            "needs_background": "light"
          }
        }
      ]
    },
    {
      "cell_type": "markdown",
      "metadata": {
        "id": "8wc1UQqi7U1q",
        "pycharm": {
          "name": "#%% md\n"
        }
      },
      "source": [
        "## 3. Train CCT on CIFAR-10\n",
        "We're going to clone the repository first.\n"
      ]
    },
    {
      "cell_type": "code",
      "metadata": {
        "id": "Bb0MqQMO78qz",
        "colab": {
          "base_uri": "https://localhost:8080/"
        },
        "outputId": "c78e89ff-4f0d-46bd-91e5-f3b4bc489717",
        "pycharm": {
          "name": "#%%\n"
        }
      },
      "source": [
        "from os.path import exists\n",
        "%cd /content\n",
        "if not exists(\"SOT_ViT\"):\n",
        "  !git clone https://github.com/tomkark/SOT_ViT.git\n",
        "  %cd SOT_ViT\n",
        "else:\n",
        "  %cd SOT_ViT\n",
        "  !git pull\n"
      ],
      "execution_count": 7,
      "outputs": [
        {
          "output_type": "stream",
          "name": "stdout",
          "text": [
            "/content\n",
            "/content/SOT_ViT\n",
            "Already up to date.\n"
          ]
        }
      ]
    },
    {
      "cell_type": "markdown",
      "metadata": {
        "id": "rhasF53HYSef",
        "pycharm": {
          "name": "#%% md\n"
        }
      },
      "source": [
        "We'll train $CCT-2/3\\times2$ from the paper ( $\\approx 280$ K parameters) for $30$ epochs. It should take around 10 minutes (may vary depending on which GPU Colab assigns to you)."
      ]
    },
    {
      "cell_type": "markdown",
      "metadata": {
        "id": "YllIsD2xjj7j",
        "pycharm": {
          "name": "#%% md\n"
        }
      },
      "source": [
        "Training is fairly simple,\n",
        "we'll just run `main.py` with the the appropriate args.\n",
        "The script will train and logs performance and time."
      ]
    },
    {
      "cell_type": "code",
      "metadata": {
        "colab": {
          "base_uri": "https://localhost:8080/"
        },
        "id": "nZa0tyEO8F9S",
        "outputId": "d8060d31-f164-440b-c0b9-ef152c0267e8",
        "pycharm": {
          "name": "#%%\n"
        }
      },
      "source": [
        "!python main.py \\\n",
        "       --ot 0.1 \\\n",
        "       --model cct_2 \\\n",
        "       --conv-size 3 \\\n",
        "       --conv-layers 2 \\\n",
        "       --print-freq -1 \\\n",
        "       --epochs 30 \\\n",
        "       --workers 2 \\\n",
        "       ../cifar10"
      ],
      "execution_count": 10,
      "outputs": [
        {
          "output_type": "stream",
          "name": "stdout",
          "text": [
            "Files already downloaded and verified\n",
            "Beginning training\n",
            "[Epoch 1] \t \t Top-1  33.32 \t \t Time: 0.52\n",
            "[Epoch 2] \t \t Top-1  40.45 \t \t Time: 0.95\n",
            "[Epoch 3] \t \t Top-1  48.61 \t \t Time: 1.37\n",
            "[Epoch 4] \t \t Top-1  51.59 \t \t Time: 1.79\n",
            "[Epoch 5] \t \t Top-1  55.04 \t \t Time: 2.23\n",
            "[Epoch 6] \t \t Top-1  58.43 \t \t Time: 2.69\n",
            "[Epoch 7] \t \t Top-1  59.62 \t \t Time: 3.11\n",
            "[Epoch 8] \t \t Top-1  64.37 \t \t Time: 3.53\n",
            "[Epoch 9] \t \t Top-1  64.16 \t \t Time: 3.96\n",
            "[Epoch 10] \t \t Top-1  67.03 \t \t Time: 4.38\n",
            "[Epoch 11] \t \t Top-1  69.49 \t \t Time: 4.81\n",
            "[Epoch 12] \t \t Top-1  67.27 \t \t Time: 5.22\n",
            "[Epoch 13] \t \t Top-1  70.68 \t \t Time: 5.64\n",
            "[Epoch 14] \t \t Top-1  69.98 \t \t Time: 6.05\n",
            "[Epoch 15] \t \t Top-1  70.49 \t \t Time: 6.47\n",
            "[Epoch 16] \t \t Top-1  73.20 \t \t Time: 6.93\n",
            "[Epoch 17] \t \t Top-1  73.89 \t \t Time: 7.34\n",
            "[Epoch 18] \t \t Top-1  74.36 \t \t Time: 7.76\n",
            "[Epoch 19] \t \t Top-1  74.65 \t \t Time: 8.20\n",
            "[Epoch 20] \t \t Top-1  75.75 \t \t Time: 8.62\n",
            "[Epoch 21] \t \t Top-1  75.87 \t \t Time: 9.04\n",
            "[Epoch 22] \t \t Top-1  76.37 \t \t Time: 9.47\n",
            "[Epoch 23] \t \t Top-1  76.97 \t \t Time: 9.88\n",
            "[Epoch 24] \t \t Top-1  76.91 \t \t Time: 10.30\n",
            "[Epoch 25] \t \t Top-1  77.13 \t \t Time: 10.76\n",
            "[Epoch 26] \t \t Top-1  77.89 \t \t Time: 11.18\n",
            "[Epoch 27] \t \t Top-1  77.89 \t \t Time: 11.59\n",
            "[Epoch 28] \t \t Top-1  77.90 \t \t Time: 12.02\n",
            "[Epoch 29] \t \t Top-1  78.02 \t \t Time: 12.43\n",
            "[Epoch 30] \t \t Top-1  78.14 \t \t Time: 12.85\n",
            "Script finished in 12.85 minutes, best top-1: 78.14, final top-1: 78.14\n"
          ]
        }
      ]
    },
    {
      "cell_type": "markdown",
      "metadata": {
        "id": "NrtaPljN7U1t",
        "pycharm": {
          "name": "#%% md\n"
        }
      },
      "source": [
        "## 4. Evaluation\n",
        "Now we're going to load our trained transformer from file. \\\\\n",
        "The script stores checkpoints in `checkpoint.pth`."
      ]
    },
    {
      "cell_type": "code",
      "metadata": {
        "id": "fLkpNzIO7U1u",
        "colab": {
          "base_uri": "https://localhost:8080/"
        },
        "outputId": "ed3d3d59-dab3-421d-c548-8596c5005c2f",
        "pycharm": {
          "name": "#%%\n"
        }
      },
      "source": [
        "from src.cct import cct_2\n",
        "\n",
        "transformer = cct_2(img_size=32,\n",
        "                    num_classes=10,\n",
        "                    positional_embedding='learnable',\n",
        "                    n_conv_layers=2,\n",
        "                    kernel_size=3)\n",
        "\n",
        "transformer.load_state_dict(torch.load('checkpoint.pth'))"
      ],
      "execution_count": 11,
      "outputs": [
        {
          "output_type": "execute_result",
          "data": {
            "text/plain": [
              "<All keys matched successfully>"
            ]
          },
          "metadata": {},
          "execution_count": 11
        }
      ]
    },
    {
      "cell_type": "markdown",
      "metadata": {
        "id": "to3894whjw1j",
        "pycharm": {
          "name": "#%% md\n"
        }
      },
      "source": [
        "**Okay, now let us see what the transformer thinks these examples above are:** \\\\\n",
        "Run this cell to see outputs. \\\\\n",
        "You can run this cell multiple times.\n",
        "Each run should return different images"
      ]
    },
    {
      "cell_type": "code",
      "metadata": {
        "id": "WXb95hF1ZhPN",
        "pycharm": {
          "name": "#%%\n"
        },
        "colab": {
          "base_uri": "https://localhost:8080/",
          "height": 216
        },
        "outputId": "1b6d4702-c8c2-4824-ce4e-c6202f522fa5"
      },
      "source": [
        "images, labels = test_dataiter.next()\n",
        "\n",
        "_, predicted = torch.max(transformer(images), 1)\n",
        "\n",
        "imshow(images, labels, predicted)\n"
      ],
      "execution_count": 12,
      "outputs": [
        {
          "output_type": "display_data",
          "data": {
            "text/plain": [
              "<Figure size 432x1728 with 1 Axes>"
            ],
            "image/png": "[encoded data removed]"
          },
          "metadata": {
            "needs_background": "light"
          }
        }
      ]
    }
  ]
}
