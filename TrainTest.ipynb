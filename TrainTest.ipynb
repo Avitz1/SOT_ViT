{
  "nbformat": 4,
  "nbformat_minor": 0,
  "metadata": {
    "kernelspec": {
      "display_name": "Python 3",
      "language": "python",
      "name": "python3"
    },
    "language_info": {
      "codemirror_mode": {
        "name": "ipython",
        "version": 3
      },
      "file_extension": ".py",
      "mimetype": "text/x-python",
      "name": "python",
      "nbconvert_exporter": "python",
      "pygments_lexer": "ipython3",
      "version": "3.6.12"
    },
    "colab": {
      "provenance": [],
      "collapsed_sections": [],
      "include_colab_link": true
    },
    "accelerator": "GPU"
  },
  "cells": [
    {
      "cell_type": "markdown",
      "metadata": {
        "id": "view-in-github",
        "colab_type": "text"
      },
      "source": [
        "<a href=\"https://colab.research.google.com/github/tomkark/SOT_ViT/blob/main/TrainTest.ipynb\" target=\"_parent\"><img src=\"https://colab.research.google.com/assets/colab-badge.svg\" alt=\"Open In Colab\"/></a>"
      ]
    },
    {
      "cell_type": "markdown",
      "metadata": {
        "id": "eUf56UTX7U1n"
      },
      "source": [
        "# Training a Compact Vision Transformer\n",
        "\n",
        "\n",
        "The next colab is based on the one published by the developers of the cct&cvt from SHI LABS\n",
        " https://medium.com/pytorch/training-compact-transformers-from-scratch-in-30-minutes-with-pytorch-ff5c21668ed5\n",
        "\n",
        "### CIFAR-10\n",
        "\n",
        "We're going to use ``torchvision``'s CIFAR-10 dataset, which will automatically download it as well.\n",
        "\n",
        "Its classes are: ‘airplane’, ‘automobile’, ‘bird’, ‘cat’, ‘deer’,\n",
        "‘dog’, ‘frog’, ‘horse’, ‘ship’, ‘truck’. The images in CIFAR-10 are of\n",
        "size 3x32x32, i.e. 3-channel color images of 32x32 pixels in size.\n",
        "\n",
        "\n",
        "### Training an image classifier\n",
        "\n",
        "We will do the following steps in order:\n",
        "\n",
        "1. Download CIFAR-10 and load it\n",
        "2. Clone the Compact Transformers repository from GitHub\n",
        "3. Train the network on CIFAR-10\n",
        "4. Load the trained checkpoint\n",
        "5. Test the network on the test data"
      ]
    },
    {
      "cell_type": "markdown",
      "metadata": {
        "id": "vOUzXmWrfQ0O"
      },
      "source": [
        "## 1. Loading the prerequisites"
      ]
    },
    {
      "cell_type": "markdown",
      "metadata": {
        "id": "aamRUhwbkKng"
      },
      "source": [
        "We need to import some basic requirements (PyTorch, Torchvision, and matplotlib)."
      ]
    },
    {
      "cell_type": "code",
      "metadata": {
        "id": "QFn8eXJ-kGH2"
      },
      "source": [
        "import torch\n",
        "import torchvision\n",
        "import torchvision.transforms as transforms\n",
        "import matplotlib.pyplot as plt\n",
        "\n",
        "\n",
        "cifar10_mean, cifar10_std = [0.4914, 0.4822, 0.4465], [0.2470, 0.2435, 0.2616]\n",
        "transform = transforms.Compose(\n",
        "    [transforms.ToTensor(),\n",
        "     transforms.Normalize(cifar10_mean, cifar10_std)])\n",
        "\n",
        "\n",
        "classes = ('plane', 'car', 'bird', 'cat',\n",
        "           'deer', 'dog', 'frog', 'horse', 'ship', 'truck')"
      ],
      "execution_count": 32,
      "outputs": []
    },
    {
      "cell_type": "markdown",
      "metadata": {
        "id": "gjdc84zvkV0k"
      },
      "source": [
        "This function will plot images, their labels and the predicted labels (if specified). We'll use it as we go through.\n",
        "----It will desplay (at the moment) the labels and predictions correctly only when batch size == 4----"
      ]
    },
    {
      "cell_type": "code",
      "metadata": {
        "id": "34kaamob7U1m"
      },
      "source": [
        "def imshow(images, labels, predicted_labels=None):\n",
        "    # Using torchvision to make a grid of the images\n",
        "    img = torchvision.utils.make_grid(images)\n",
        "\n",
        "    # Inverting the normalization\n",
        "    img = img.permute(1, 2, 0).mul(torch.tensor(cifar10_std))\n",
        "    img += torch.tensor(cifar10_mean)\n",
        "\n",
        "    # Plotting the grid\n",
        "    fig, ax = plt.subplots(figsize=(6, 24))\n",
        "    plt.imshow(img)\n",
        "\n",
        "    if predicted_labels is not None:\n",
        "        # Outputing the predicted labels\n",
        "        ax.set_xlabel('Predicted labels', fontsize=18, labelpad=12)\n",
        "        ax.set_xticks(torch.arange(len(images)) * 35 + 20)\n",
        "        ax.set_xticklabels([classes[predicted_labels[j]] \n",
        "                            for j in range(len(images))], fontsize=14)\n",
        "    \n",
        "    # Outputing the ground truth labels\n",
        "    if(len(images)<9):\n",
        "      gax = ax.secondary_xaxis('top')\n",
        "      gax.set_xlabel('Ground truth', fontsize=18, labelpad=12)\n",
        "      gax.set_xticks(torch.arange(len(images)) * 35 + 20)\n",
        "      gax.set_xticklabels([classes[labels[j]] \n",
        "                          for j in range(len(images))], fontsize=14)\n",
        "    plt.show()"
      ],
      "execution_count": 33,
      "outputs": []
    },
    {
      "cell_type": "markdown",
      "metadata": {
        "id": "NtmgJyxI7U1p"
      },
      "source": [
        "## 2. Loading and normalizing CIFAR10\n",
        "Using ``torchvision``, it’s extremely easy to load CIFAR10."
      ]
    },
    {
      "cell_type": "code",
      "metadata": {
        "id": "EM1GR73T7U1p",
        "colab": {
          "base_uri": "https://localhost:8080/"
        },
        "outputId": "c43aebf3-4518-4eba-fd26-6fdc866ffdef"
      },
      "source": [
        "%cd /content\n",
        "batch_size = 4 #we train on 128 but for the display the default is 4\n",
        "\n",
        "trainset = torchvision.datasets.CIFAR10(root='./cifar10', train=True,\n",
        "                                        download=True, transform=transform)\n",
        "trainloader = torch.utils.data.DataLoader(trainset, batch_size=batch_size,\n",
        "                                          shuffle=True, num_workers=2)\n",
        "\n",
        "testset = torchvision.datasets.CIFAR10(root='./cifar10', train=False,\n",
        "                                       download=True, transform=transform)\n",
        "testloader = torch.utils.data.DataLoader(testset, batch_size=batch_size,\n",
        "                                         shuffle=True, num_workers=2)\n",
        "\n",
        "dataiter = iter(trainloader)\n",
        "test_dataiter = iter(testloader)"
      ],
      "execution_count": 34,
      "outputs": [
        {
          "output_type": "stream",
          "name": "stdout",
          "text": [
            "/content\n",
            "Files already downloaded and verified\n",
            "Files already downloaded and verified\n"
          ]
        }
      ]
    },
    {
      "cell_type": "markdown",
      "metadata": {
        "id": "SrEIjTCOjVim"
      },
      "source": [
        "**Let's view some of the training images, for fun.** \\\\\n",
        "Run this cell to see outputs. \\\\\n",
        "You can run this cell multiple times.\n",
        "Each run should return different images"
      ]
    },
    {
      "cell_type": "code",
      "metadata": {
        "id": "UA29qUBf7U1q",
        "colab": {
          "base_uri": "https://localhost:8080/",
          "height": 182
        },
        "outputId": "c7ec452a-a6b4-4768-eafc-f3c303e0cd6a"
      },
      "source": [
        "images, labels = dataiter.next()\n",
        "imshow(images, labels)"
      ],
      "execution_count": 35,
      "outputs": [
        {
          "output_type": "display_data",
          "data": {
            "text/plain": [
              "<Figure size 432x1728 with 1 Axes>"
            ],
            "image/png": "[encoded data removed]"
          },
          "metadata": {
            "needs_background": "light"
          }
        }
      ]
    },
    {
      "cell_type": "markdown",
      "metadata": {
        "id": "8wc1UQqi7U1q"
      },
      "source": [
        "## 3. Train CCT on CIFAR-10\n",
        "We're going to clone the repository first.\n"
      ]
    },
    {
      "cell_type": "code",
      "metadata": {
        "id": "Bb0MqQMO78qz",
        "colab": {
          "base_uri": "https://localhost:8080/"
        },
        "outputId": "a4c91730-079e-4e3b-9498-23316afac789"
      },
      "source": [
        "from os.path import exists\n",
        "%cd /content\n",
        "if not exists(\"SOT_ViT\"):\n",
        "  !git clone https://github.com/tomkark/SOT_ViT.git\n",
        "  %cd SOT_ViT\n",
        "\n",
        "else:\n",
        "  %cd SOT_ViT\n",
        "  !git pull\n"
      ],
      "execution_count": 36,
      "outputs": [
        {
          "output_type": "stream",
          "name": "stdout",
          "text": [
            "/content\n",
            "/content/SOT_ViT\n",
            "Already up to date.\n"
          ]
        }
      ]
    },
    {
      "cell_type": "markdown",
      "metadata": {
        "id": "rhasF53HYSef"
      },
      "source": [
        "We'll train $CCT-2/3\\times2$ from the paper ( $\\approx 280$ K parameters) for $30$ epochs. It should take around 10 minutes (may vary depending on which GPU Colab assigns to you)."
      ]
    },
    {
      "cell_type": "markdown",
      "metadata": {
        "id": "YllIsD2xjj7j"
      },
      "source": [
        "Training is fairly simple,\n",
        "we'll just run `main.py` with the the appropriate args.\n",
        "The script will train and logs performance and time.\n",
        "ot is the regularization parameter for the Sinkhorn algorithm."
      ]
    },
    {
      "cell_type": "code",
      "metadata": {
        "colab": {
          "base_uri": "https://localhost:8080/"
        },
        "id": "nZa0tyEO8F9S",
        "outputId": "bda76397-8576-47bd-ff26-57c6a5b718ad"
      },
      "source": [
        "!pwd\n",
        "if not exists(\"checkpoint.pth\"):\n",
        "  !python main.py \\\n",
        "        --ot=0.8 \\\n",
        "        --qk False \\\n",
        "        --SOT True \\\n",
        "        --model cct_2 \\\n",
        "        --conv-size 3 \\\n",
        "        --conv-layers 2 \\\n",
        "        --print-freq -1 \\\n",
        "        --epochs 200 \\\n",
        "        --workers 2 \\\n",
        "        --data ../cifar10\n",
        "else:\n",
        "  print(\"Not training\")"
      ],
      "execution_count": null,
      "outputs": [
        {
          "output_type": "stream",
          "name": "stdout",
          "text": [
            "/content/SOT_ViT\n",
            "{'patch_size': 4, 'ot': 0.8, 'withSOT': True, 'qk': False}\n",
            "{'patch_size': 4, 'ot': 0.8, 'withSOT': True, 'qk': False}\n",
            "GPU (CUDA) Status: True, Cifar Path: ../cifar10\n",
            "Files already downloaded and verified\n",
            "Beginning training 0.8\n",
            "[Epoch 1] \t \t Top-1 32.89000 \t \t Time: 0.68\n",
            "[Epoch 2] \t \t Top-1 37.33000 \t \t Time: 1.35\n",
            "[Epoch 3] \t \t Top-1 46.59000 \t \t Time: 2.01\n",
            "[Epoch 4] \t \t Top-1 50.97000 \t \t Time: 2.68\n",
            "[Epoch 5] \t \t Top-1 54.17000 \t \t Time: 3.35\n",
            "[Epoch 6] \t \t Top-1 57.43000 \t \t Time: 4.01\n",
            "[Epoch 7] \t \t Top-1 58.31000 \t \t Time: 4.68\n",
            "[Epoch 8] \t \t Top-1 60.44000 \t \t Time: 5.35\n",
            "[Epoch 9] \t \t Top-1 59.57000 \t \t Time: 6.02\n",
            "[Epoch 10] \t \t Top-1 63.43000 \t \t Time: 6.69\n",
            "[Epoch 11] \t \t Top-1 64.10000 \t \t Time: 7.35\n",
            "[Epoch 12] \t \t Top-1 66.90000 \t \t Time: 8.02\n",
            "[Epoch 13] \t \t Top-1 67.79000 \t \t Time: 8.68\n",
            "[Epoch 14] \t \t Top-1 68.41000 \t \t Time: 9.35\n",
            "[Epoch 15] \t \t Top-1 70.02000 \t \t Time: 10.02\n",
            "[Epoch 16] \t \t Top-1 69.56000 \t \t Time: 10.68\n",
            "[Epoch 17] \t \t Top-1 69.08000 \t \t Time: 11.38\n",
            "[Epoch 18] \t \t Top-1 72.88000 \t \t Time: 12.05\n",
            "[Epoch 19] \t \t Top-1 73.36000 \t \t Time: 12.71\n",
            "[Epoch 20] \t \t Top-1 73.15000 \t \t Time: 13.38\n",
            "[Epoch 21] \t \t Top-1 72.56000 \t \t Time: 14.05\n",
            "[Epoch 22] \t \t Top-1 74.69000 \t \t Time: 14.71\n",
            "[Epoch 23] \t \t Top-1 75.65000 \t \t Time: 15.38\n",
            "[Epoch 24] \t \t Top-1 75.34000 \t \t Time: 16.04\n",
            "[Epoch 25] \t \t Top-1 75.83000 \t \t Time: 16.68\n",
            "[Epoch 26] \t \t Top-1 76.83000 \t \t Time: 17.34\n"
          ]
        }
      ]
    },
    {
      "cell_type": "markdown",
      "metadata": {
        "id": "NrtaPljN7U1t"
      },
      "source": [
        "## 4. Evaluation\n",
        "Now we're going to load our trained transformer from file. \\\\\n",
        "The script stores checkpoints in `checkpoint.pth`."
      ]
    },
    {
      "cell_type": "code",
      "metadata": {
        "id": "fLkpNzIO7U1u"
      },
      "source": [
        "from src.cct import cct_2\n",
        "\n",
        "saved_file = \"image.pt\"\n",
        "\n",
        "transformer = cct_2(img_size=32,\n",
        "                    num_classes=10,\n",
        "                    positional_embedding='learnable',\n",
        "                    n_conv_layers=2,\n",
        "                    kernel_size=3,\n",
        "                    plot=True,\n",
        "                    ot=0.1,\n",
        "                    saved_file=saved_file,\n",
        "                    withSOT=True,\n",
        "                    qk=False)\n",
        "\n",
        "transformer.load_state_dict(torch.load('checkpoint.pth'))"
      ],
      "execution_count": null,
      "outputs": []
    },
    {
      "cell_type": "markdown",
      "metadata": {
        "id": "to3894whjw1j"
      },
      "source": [
        "**Test time**\\\\\n",
        "Run this cell to evaluate the performance over the test data.\\\\\n",
        "-For visual results run the loop once with the imshow line but make sure your batch_size==4\n"
      ]
    },
    {
      "cell_type": "code",
      "metadata": {
        "id": "WXb95hF1ZhPN"
      },
      "source": [
        "#The following lines can be used to \"inject\" specific images to the test batch \n",
        "# and inspect the heat_map in \"plot\" mode\n",
        "images, labels = test_dataiter.next()\n",
        "torch.save(images[0], saved_file)\n",
        "torch.save(labels[0], \"labels.pt\")\n",
        "images[0] = torch.load(saved_file)\n",
        "labels[0] = torch.load(\"labels.pt\")\n",
        "#------\n",
        "#We saw above the results during training, now we will iterate over almost all of the 10000 test images\n",
        "#and print the accuracy percentage:\n",
        "%matplotlib inline\n",
        "result = 0\n",
        "iterations = len(test_dataiter) - 1\n",
        "for i in range(iterations):\n",
        "  _, predicted = torch.max(transformer(images), 1)\n",
        "  result += torch.sum(labels == predicted)\n",
        "  images, labels = test_dataiter.next()\n",
        "\n",
        "result = \"{:.2f}\".format((100*result)/(batch_size*iterations))\n",
        "print(\"The success rate of the model over the test set ({} images) is: {}\".format(batch_size*(iterations+1), result))\n",
        "\n",
        "# imshow(images, labels, predicted)"
      ],
      "execution_count": null,
      "outputs": []
    }
  ]
}